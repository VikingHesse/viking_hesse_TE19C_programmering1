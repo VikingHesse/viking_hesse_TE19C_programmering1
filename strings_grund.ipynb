{
 "metadata": {
  "language_info": {
   "codemirror_mode": {
    "name": "ipython",
    "version": 3
   },
   "file_extension": ".py",
   "mimetype": "text/x-python",
   "name": "python",
   "nbconvert_exporter": "python",
   "pygments_lexer": "ipython3",
   "version": "3.8.3-final"
  },
  "orig_nbformat": 2,
  "kernelspec": {
   "name": "python3",
   "display_name": "Python 3"
  }
 },
 "nbformat": 4,
 "nbformat_minor": 2,
 "cells": [
  {
   "source": [
    "Strängar i python\n",
    "* Indexeringsoperatorn []\n",
    "* Skivoperatorn :\n",
    "* Konkatenering +\n",
    "* Escape-sekvenser\n"
   ],
   "cell_type": "markdown",
   "metadata": {}
  },
  {
   "source": [
    "## Konkatenering\n",
    "Lägger ihop strängar\n"
   ],
   "cell_type": "markdown",
   "metadata": {}
  },
  {
   "cell_type": "code",
   "execution_count": 5,
   "metadata": {},
   "outputs": [
    {
     "output_type": "stream",
     "name": "stdout",
     "text": [
      "Namn: Viking Hesse\nÅlder: 17\nAddress: Kronhusgatan 9\nTelefon: 112\n"
     ]
    }
   ],
   "source": [
    "förnamn = \"Viking\"\n",
    "efternamn = \"Hesse\"\n",
    "\n",
    "# konkatenering\n",
    "\n",
    "namn = förnamn + \" \" + efternamn\n",
    "ålder = 17\n",
    "address = \"Kronhusgatan 9\"\n",
    "telefon = 112\n",
    "\n",
    "personuppgifter = \"Namn: \" + namn + \"\\n\" + \"Ålder: \" + str(ålder) + \"\\n\" + \"Address: \" + address + \"\\n\" + \"Telefon: \" + str(telefon)\n",
    "\n",
    "print(personuppgifter)"
   ]
  },
  {
   "source": [
    "## Indexering\n"
   ],
   "cell_type": "markdown",
   "metadata": {}
  },
  {
   "cell_type": "code",
   "execution_count": 11,
   "metadata": {},
   "outputs": [
    {
     "output_type": "stream",
     "name": "stdout",
     "text": [
      "Alfabetet innehåller 29 bokstäver\nBokstav på index 0: a\nBokstav på index -2: ä\nBokstav på index 6: g\nAlfabetet baklänges: öäåzyxwvutsrqponmlkjihgfedcba\n"
     ]
    }
   ],
   "source": [
    "alfabet = \"abcdefghijklmnopqrstuvwxyzåäö\"\n",
    "\n",
    "print(\"Alfabetet innehåller {} bokstäver\".format(len(alfabet)))\n",
    "\n",
    "print(f\"Bokstav på index 0: {alfabet[0]}\")\n",
    "print(f\"Bokstav på index -2: {alfabet[-2]}\")\n",
    "print(f\"Bokstav på index 6: {alfabet[6]}\")\n",
    "print(f\"Alfabetet baklänges: {alfabet[::-1]}\")"
   ]
  },
  {
   "source": [
    "## split()"
   ],
   "cell_type": "markdown",
   "metadata": {}
  },
  {
   "cell_type": "code",
   "execution_count": 3,
   "metadata": {},
   "outputs": [
    {
     "output_type": "stream",
     "name": "stdout",
     "text": [
      "['Matematik', 'Programmering', 'Teknik', 'Webbutveckling', 'Fysik']\nJag gillar Matematik\nJag gillar Programmering\nJag gillar Teknik\nJag gillar Webbutveckling\nJag gillar Fysik\n"
     ]
    }
   ],
   "source": [
    "favoritämnen = \"Matematik Programmering Teknik Webbutveckling Fysik\"\n",
    "\n",
    "favoritämnen = favoritämnen.split(\" \")\n",
    "print(favoritämnen)\n",
    "\n",
    "for ämne in favoritämnen:\n",
    "    print(f\"Jag gillar {ämne}\")"
   ]
  },
  {
   "cell_type": "code",
   "execution_count": 19,
   "metadata": {},
   "outputs": [
    {
     "output_type": "stream",
     "name": "stdout",
     "text": [
      "Antalet vokaler är 35\n\n\nVokalerna är: ['o', 'o', 'o', 'y', 'a', 'o', 'u', 'y', 'o', 'u', 'i', 'i', 'u', 'i', 'e', 'i', 'a', 'e', 'a', 'i', 'a', 'a', 'u', 'e', 'y', 'o', 'u', 'i', 'e', 'a', 'e', 'i', 'e', 'a', 'e']\n"
     ]
    }
   ],
   "source": [
    "#4\n",
    "citat = \"Do not worry about your difficulties in Mathematics. I can assure you mine are still greater\"\n",
    "\n",
    "vokaler = \"aeiouyåäö\"\n",
    "\n",
    "vokalerna = []\n",
    "\n",
    "for ord in citat:\n",
    "    \n",
    "    for vokal in vokaler:\n",
    "\n",
    "        if ord == vokal:\n",
    "            vokalerna.append(ord)\n",
    "\n",
    "\n",
    "print(f\"Antalet vokaler är {len(vokalerna)}\")\n",
    "print(\"\\n\")\n",
    "print(f\"Vokalerna är: {vokalerna}\")\n"
   ]
  },
  {
   "cell_type": "code",
   "execution_count": 18,
   "metadata": {},
   "outputs": [
    {
     "output_type": "stream",
     "name": "stdout",
     "text": [
      "omomomo\n"
     ]
    }
   ],
   "source": [
    "#5\n",
    "alfabet = \"abcdefghijklmnopqrstuvwxyzåäö\"\n",
    "\n",
    "def kryptera():\n",
    "    krypterat_ord = \"\"\n",
    "\n",
    "    for bokstav in ord:\n",
    "        bokstav_index = alfabet.find(bokstav)\n",
    "        bokstav_index += 1\n",
    "\n",
    "\n",
    "        #Lite sliten lösning men work in progress\n",
    "        if bokstav_index == 29:\n",
    "            krypterat_ord += alfabet[0]\n",
    "\n",
    "        else:\n",
    "            krypterat_ord += alfabet[bokstav_index]\n",
    "\n",
    "    print(krypterat_ord)\n",
    "\n",
    "def dekryptera():\n",
    "    dekrypterat_ord = \"\"\n",
    "\n",
    "    for bokstav in ord:\n",
    "        bokstav_index = alfabet.find(bokstav)\n",
    "        bokstav_index -= 1\n",
    "\n",
    "\n",
    "        #Lite sliten lösning men work in progress\n",
    "        if bokstav_index == -1:\n",
    "            dekrypterat_ord += alfabet[28]\n",
    "\n",
    "        else:\n",
    "            dekrypterat_ord += alfabet[bokstav_index]\n",
    "\n",
    "    print(dekrypterat_ord)\n",
    "\n",
    "\n",
    "ord = input(\"Ange ord: \").lower()\n",
    "val = input(\"Vill du kryptera eller dekryptera?: \")\n",
    "\n",
    "if val == \"kryptera\":\n",
    "    kryptera()\n",
    "\n",
    "elif val == \"dekryptera\":\n",
    "    dekryptera()"
   ]
  },
  {
   "cell_type": "code",
   "execution_count": 14,
   "metadata": {},
   "outputs": [
    {
     "output_type": "stream",
     "name": "stdout",
     "text": [
      "Ordet Anna är ett palindrom\n"
     ]
    }
   ],
   "source": [
    "#3a\n",
    "ord = str(input(\"Ange ord: \"))\n",
    "\n",
    "ord_lowercase = ord.lower()\n",
    "\n",
    "if ord_lowercase[::-1] == ord_lowercase:\n",
    "    print(\"Ordet {} är ett palindrom\".format(ord))\n"
   ]
  },
  {
   "cell_type": "code",
   "execution_count": 16,
   "metadata": {},
   "outputs": [
    {
     "output_type": "stream",
     "name": "stdout",
     "text": [
      "Ordet/Meningen \"lot skattmas, då nog gälden, vad avser dem av oss där inne du haver, gives eder, redes evig reva - huden ni räds sova med. res vad av, ned lägg onåd samt takstol!\" är ett palindrom\n"
     ]
    }
   ],
   "source": [
    "#3b\n",
    "alfabet = \"abcdefghijklmnopqrstuvwxyzåäö\"\n",
    "\n",
    "ord = str(input(\"Ange ord: \")).lower()\n",
    "\n",
    "sorterat_ord = []\n",
    "\n",
    "for bokstav_1 in ord:\n",
    "\n",
    "    for bokstav_2 in alfabet:\n",
    "\n",
    "        if bokstav_1 == bokstav_2:\n",
    "            sorterat_ord.append(bokstav_1)\n",
    "\n",
    "nytt_ord = \"\".join(sorterat_ord)\n",
    "\n",
    "\n",
    "if nytt_ord[::-1] == nytt_ord:\n",
    "    print('Ordet/Meningen \"{}\" är ett palindrom'.format(ord))\n",
    "\n",
    "elif nytt_ord[::-1] != nytt_ord:\n",
    "    print('Ordet/Meningen \"{}\" är INTE ett palindrom'.format(ord))"
   ]
  },
  {
   "cell_type": "code",
   "execution_count": null,
   "metadata": {},
   "outputs": [],
   "source": []
  }
 ]
}