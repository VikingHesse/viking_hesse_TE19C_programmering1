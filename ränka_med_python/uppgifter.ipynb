{
 "metadata": {
  "language_info": {
   "codemirror_mode": {
    "name": "ipython",
    "version": 3
   },
   "file_extension": ".py",
   "mimetype": "text/x-python",
   "name": "python",
   "nbconvert_exporter": "python",
   "pygments_lexer": "ipython3",
   "version": "3.8.3-final"
  },
  "orig_nbformat": 2,
  "kernelspec": {
   "name": "python_defaultSpec_1600410788612",
   "display_name": "Python 3.8.3 64-bit ('base': conda)"
  }
 },
 "nbformat": 4,
 "nbformat_minor": 2,
 "cells": [
  {
   "cell_type": "markdown",
   "metadata": {},
   "source": [
    "# Notebook\n",
    "\n",
    "## Detta är en Jupyter Notebook\n",
    "\n",
    "$F = mg$"
   ]
  },
  {
   "cell_type": "markdown",
   "metadata": {},
   "source": []
  },
  {
   "cell_type": "code",
   "execution_count": 6,
   "metadata": {
    "tags": []
   },
   "outputs": [
    {
     "output_type": "stream",
     "name": "stdout",
     "text": "Din tyngkraft är 392.8N\n"
    }
   ],
   "source": [
    "#Skapar en variabel g och tilldelar det värdet 9.82\n",
    "g = 9.82\n",
    "\n",
    "#Insätter vikten i variabeln m\n",
    "m = float(input(\"Hur mycket väger du? \"))\n",
    "\n",
    "#Beräknar tyngkraften\n",
    "F = m*g\n",
    "\n",
    "#Skriver ut resultatet\n",
    "print(f\"Din tyngkraft är {F}N\")"
   ]
  },
  {
   "cell_type": "code",
   "execution_count": 1,
   "metadata": {
    "tags": []
   },
   "outputs": [
    {
     "output_type": "stream",
     "name": "stdout",
     "text": "31.23%\n"
    }
   ],
   "source": [
    "#ange decimalen\n",
    "decimal = float(input(\"Ange decimal: \"))\n",
    "\n",
    "#omvandlar till procent\n",
    "procent = round(decimal * 100,2)\n",
    "\n",
    "#skriver ut resultatet\n",
    "print(f\"{procent}%\")"
   ]
  },
  {
   "cell_type": "code",
   "execution_count": 6,
   "metadata": {
    "tags": []
   },
   "outputs": [
    {
     "output_type": "stream",
     "name": "stdout",
     "text": "300.0 kelvin är 26.85 celsius\n"
    }
   ],
   "source": [
    "#ange temperatur i kelvin\n",
    "kelvin = float(input(\"Ange temperatur i Kelvin: \"))\n",
    "\n",
    "celsius = round(kelvin - 273.15, 3)\n",
    "\n",
    "print(f\"{kelvin} kelvin är {celsius} celsius\")\n"
   ]
  },
  {
   "cell_type": "code",
   "execution_count": 10,
   "metadata": {
    "tags": []
   },
   "outputs": [
    {
     "output_type": "stream",
     "name": "stdout",
     "text": "0.0 celsius är 273.15 kelvin\n"
    }
   ],
   "source": [
    "#ange temperatur i celsius\n",
    "celsius = float(input(\"Ange temperatur i celsius: \"))\n",
    "\n",
    "kelvin = round(celsius + 273.15, 3)\n",
    "\n",
    "print(f\"{celsius} celsius är {kelvin} kelvin\")"
   ]
  },
  {
   "cell_type": "code",
   "execution_count": 1,
   "metadata": {
    "tags": []
   },
   "outputs": [
    {
     "output_type": "stream",
     "name": "stdout",
     "text": "Du reser 30 gånger per månad till ett pris av 630kr. Det är inte värt att skaffa ett månadskort då det kostar 900kr\n"
    }
   ],
   "source": [
    "while True:\n",
    "    try:\n",
    "        engångsbiljett = int(input(\"Ange priset för en enkelbiljett: \"))\n",
    "\n",
    "        if engångsbiljett < 1:\n",
    "            print(\"Ange talen i sifferform och som positiva heltal\")\n",
    "            pass\n",
    "\n",
    "        else:\n",
    "            månadskort = int(input(\"Ange priset för ett månadskort: \"))\n",
    "\n",
    "            if månadskort < 1:\n",
    "                print(\"Ange talen i sifferform och som positiva heltal\")\n",
    "                pass\n",
    "\n",
    "\n",
    "            else:\n",
    "                antalet_resor = int(input(\"Ange antalet resor per månad: \"))\n",
    "\n",
    "                if antalet_resor < 1:\n",
    "                    print(\"Ange talen i sifferform och som positiva heltal\")\n",
    "                    pass\n",
    "\n",
    "\n",
    "                else:\n",
    "\n",
    "                    månadspris = engångsbiljett * antalet_resor\n",
    "\n",
    "                    if antalet_resor > 1 and månadspris > månadskort:\n",
    "                        print(f\"Du reser {antalet_resor} gånger per månad till ett pris av {månadspris}kr. Det är värt att skaffa ett månadskort då det kostar {månadskort}kr\")\n",
    "\n",
    "                    elif antalet_resor > 1 and månadspris < månadskort:\n",
    "                        print(f\"Du reser {antalet_resor} gånger per månad till ett pris av {månadspris}kr. Det är inte värt att skaffa ett månadskort då det kostar {månadskort}kr\")\n",
    "\n",
    "                    elif antalet_resor == 1:\n",
    "                        print(f\"Du reser {antalet_resor} gång per månad till ett pris av {månadspris}kr. Det är inte värt att skaffa ett månadskort då det kostar {månadskort}kr\")\n",
    "\n",
    "                    elif antalet_resor < 0 or 0:\n",
    "                        print(\"Ange talen i sifferform och som positiva heltal\")\n",
    "                        pass\n",
    "\n",
    "                    elif antalet_resor > 1 and månadspris == månadskort:\n",
    "                        print(f\"Du reser {antalet_resor} gång per månad till ett pris av {månadspris}kr. Det spelar ingen roll om du skaffar ett månadskort då det kostar lika mycket som du spenderar\")\n",
    "\n",
    "    except ValueError:\n",
    "        print(\"Ange talen i sifferform och som positiva heltal\")\n",
    "        pass\n",
    "\n",
    "\n",
    "    else:\n",
    "        break"
   ]
  },
  {
   "source": [
    "\n",
    "\n",
    "Programmeringsövningshäfte del 1"
   ],
   "cell_type": "markdown",
   "metadata": {}
  },
  {
   "cell_type": "code",
   "execution_count": 13,
   "metadata": {
    "tags": []
   },
   "outputs": [
    {
     "output_type": "stream",
     "name": "stdout",
     "text": "Den andra katetern är 10.909\n"
    }
   ],
   "source": [
    "#1\n",
    "import math\n",
    "h = float(input(\"Hypotenusa: \"))\n",
    "k1 = float(input(\"första katetern: \"))\n",
    "k1h = (h**2-k1**2)\n",
    "k2 = round(math.sqrt(k1h), 3)\n",
    "\n",
    "print(f\"Den andra katetern är {k2}\")\n"
   ]
  },
  {
   "cell_type": "code",
   "execution_count": 3,
   "metadata": {
    "tags": []
   },
   "outputs": [
    {
     "output_type": "stream",
     "name": "stdout",
     "text": "8.0\n"
    }
   ],
   "source": [
    "#2\n",
    "\n",
    "b = float(input(\"Ange basen: \"))\n",
    "h = float(input(\"Ange höjden: \"))\n",
    "\n",
    "area = b*h / 2\n",
    "\n",
    "print(area)"
   ]
  },
  {
   "cell_type": "code",
   "execution_count": 6,
   "metadata": {
    "tags": []
   },
   "outputs": [
    {
     "output_type": "stream",
     "name": "stdout",
     "text": "pH värde: 7.0\n"
    }
   ],
   "source": [
    "#3\n",
    "import math\n",
    "\n",
    "vätejoner = float(input(\"Antal vätejoner i decimalform:\"))\n",
    "\n",
    "logarithm = math.log(vätejoner, 10)\n",
    "\n",
    "print(f\"pH värde: {-(logarithm)}\")"
   ]
  },
  {
   "cell_type": "code",
   "execution_count": 10,
   "metadata": {
    "tags": []
   },
   "outputs": [
    {
     "output_type": "stream",
     "name": "stdout",
     "text": "Avståndet är 4.123\n"
    }
   ],
   "source": [
    "#4\n",
    "\n",
    "import math\n",
    "\n",
    "x1 = float(input(\"Ange första punktens x värde:\"))\n",
    "y1 = float(input(\"Ange första punktens y värde:\"))\n",
    "x2 = float(input(\"Ange andra punktens x värde:\"))\n",
    "y2 = float(input(\"Ange andra punktens y värde:\"))\n",
    "\n",
    "d = math.sqrt((x2 - x1)**2 + (y2 - y1)**2)\n",
    "\n",
    "print (f\"Avståndet är {round(d, 3)}\")"
   ]
  },
  {
   "source": [
    "Programmeringsövningshäfte del 2 - If satser"
   ],
   "cell_type": "markdown",
   "metadata": {}
  },
  {
   "cell_type": "code",
   "execution_count": 16,
   "metadata": {
    "tags": []
   },
   "outputs": [
    {
     "output_type": "stream",
     "name": "stdout",
     "text": "Numret är 0\n"
    }
   ],
   "source": [
    "#1 - Program som beräknar om ett tal är positivt, negativt eller 0 \n",
    "\n",
    "#Anger ett nummer som float\n",
    "nummer = float(input(\"Ange en siffra eller nummer: \"))\n",
    "\n",
    "#Beräknar vad numret är \n",
    "if nummer == 0:\n",
    "    print(\"Numret är 0\")\n",
    "elif nummer > 0:\n",
    "    print(\"Numret är positivt\")\n",
    "else:\n",
    "    print(\"Numret är negativt\")\n"
   ]
  },
  {
   "cell_type": "code",
   "execution_count": 32,
   "metadata": {
    "tags": []
   },
   "outputs": [
    {
     "output_type": "stream",
     "name": "stdout",
     "text": "Talet är jämt och delbart med 5\n"
    }
   ],
   "source": [
    "#2 - Jag har gjort ett program som kollar om talet användaren angav är jämnt, udda, 0, eller delbart på 5. Om talet är delbart på 5 så skrivs också om talet är udda eller jämt. \n",
    "\n",
    "try:\n",
    "    tal = int(input(\"Ange tal:\"))\n",
    "\n",
    "    if tal == 0:\n",
    "        print(\"Talet är 0\")\n",
    "\n",
    "    elif tal % 2 == 0 and tal % 5 != 0:\n",
    "        print(\"Talet är jämt\")\n",
    "\n",
    "    elif tal % 2 != 0 and tal % 5 != 0:\n",
    "        print(\"Talet är udda\")\n",
    "\n",
    "    elif tal % 2 == 0 and tal % 5 == 0:\n",
    "        print(\"Talet är jämt och delbart med 5\") \n",
    "\n",
    "    elif tal % 2 != 0 and tal % 5 == 0:\n",
    "        print(\"Talet är udda och delbart med 5\")\n",
    "\n",
    "except ValueError:\n",
    "    print(\"Ange heltal\")"
   ]
  },
  {
   "cell_type": "code",
   "execution_count": 33,
   "metadata": {
    "tags": []
   },
   "outputs": [
    {
     "output_type": "stream",
     "name": "stdout",
     "text": "Ange tal i sifferform\nAnge tal i sifferform\nDet största talet av de du angav är 4\n"
    }
   ],
   "source": [
    "#3 - Jag har gjort ett program som jämför 4 tal och skriver ut vilket tal som är det största. \n",
    "\n",
    "while True:\n",
    "    try:\n",
    "\n",
    "        #Anger talen\n",
    "        tal1 = float(input(\"Ange tal 1: \"))\n",
    "        tal2 = float(input(\"Ange tal 2: \"))\n",
    "        tal3 = float(input(\"Ange tal 3: \"))\n",
    "        tal4 = float(input(\"Ange tal 4: \"))\n",
    "\n",
    "        #Kollar vilket som är det största (kan också använda list för detta, bättre om man har många olika tal)\n",
    "        maximum = max(tal1, tal2, tal3, tal4)\n",
    "\n",
    "        #Om det största talet är ett heltal så skrivs det ut utan att ha ett .0 på slutet. Så om största talet är\n",
    "        #3.0 så skrivs det som 3\n",
    "        if (maximum).is_integer():\n",
    "            print(f\"Det största talet av de du angav är {int(maximum)}\")\n",
    "\n",
    "        #Om det största talet inte är ett heltal så skrivs det ut normalt\n",
    "        else:\n",
    "            print(f\"Det största talet av de du angav är {maximum}\")\n",
    "\n",
    "\n",
    "    except ValueError:\n",
    "        print(\"Ange tal i sifferform\")\n",
    "        pass\n",
    "    \n",
    "#Avslutar loopen\n",
    "    else:\n",
    "        break"
   ]
  },
  {
   "cell_type": "code",
   "execution_count": 24,
   "metadata": {
    "tags": []
   },
   "outputs": [
    {
     "output_type": "stream",
     "name": "stdout",
     "text": "Ange ett positivt heltal och ange inte 0\nAnge ett positivt heltal och ange inte 0\nAnge ett positivt heltal och ange inte 0\nAnge ett positivt heltal och ange inte 0\nCirkelns omkrets är 12.57\nCirkelns area är 12.57\n"
    }
   ],
   "source": [
    "#5 - Jag har gjort ett program som omvandlar radien av en cirkel till omkretsen och arean\n",
    "import math\n",
    "\n",
    "#while True är till för att skapa en loop, dvs att om användaren anger något annat än ett positivt heltal (!= 0) så skrivs ett felmeddelande ut samt att programmet startas om av sig självt, så man slipper klicka på run hela tiden. \n",
    "while True:\n",
    "    try:\n",
    "\n",
    "        #Ange radien och beräkna diameter\n",
    "        radie = float(input(\"Ange cirkelns radie: \"))\n",
    "        diameter = radie * 2\n",
    "\n",
    "        #Kollar om radien är positiv\n",
    "        if radie <= 0:\n",
    "            print(\"Ange ett positivt heltal och ange inte 0\")\n",
    "\n",
    "        #Beräknar omkrets samt area och printar ut det samt avslutar loopen\n",
    "        else:\n",
    "            omkrets = diameter * math.pi\n",
    "            area = (radie ** 2) * math.pi\n",
    "\n",
    "            print(f\"Cirkelns omkrets är {round(omkrets, 2)}\")\n",
    "            print(f\"Cirkelns area är {round(area, 2)}\")\n",
    "            break\n",
    "\n",
    "    except ValueError:\n",
    "        print(\"Ange ett positivt heltal och ange inte 0\")\n",
    "        pass"
   ]
  },
  {
   "cell_type": "code",
   "execution_count": 23,
   "metadata": {
    "tags": []
   },
   "outputs": [
    {
     "output_type": "stream",
     "name": "stdout",
     "text": "Ange ett positivt tal i vinkel 1\n"
    }
   ],
   "source": [
    "#6 - Jag har gjort ett program där man anger tre vinklar på en triangel och programmet tar reda på vilken vinkel som är rät (om det finns en) och vilka som inte är räta. \n",
    "\n",
    "\n",
    "#Try är till för att kunna göra exception på errors (göra felmeddelanden)\n",
    "try:\n",
    "\n",
    "    #Ange vinklarna\n",
    "    vinkel1 = float(input(\"Ange vinkel 1: \"))\n",
    "    vinkel2 = float(input(\"Ange vinkel 2: \"))\n",
    "    vinkel3 = float(input(\"Ange vinkel 3: \"))\n",
    "\n",
    "    #Kollar om vinkelsumman är 180 (dvs en triangel)\n",
    "    vinkelsumma = vinkel1 + vinkel2 + vinkel3\n",
    "\n",
    "    if vinkelsumma != 180:\n",
    "        print(\"Ange tre vinklar som har en summa av 180 grader\")\n",
    "\n",
    "    elif vinkelsumma == 180:\n",
    "\n",
    "        #Kollar om vinklarna är över 0\n",
    "        if vinkel1 <= 0:\n",
    "            print(\"Ange ett positivt tal i vinkel 1\")\n",
    "            \n",
    "\n",
    "        elif vinkel2 <= 0:\n",
    "            print(\"Ange ett positivt tal i vinkel 2\")\n",
    "            \n",
    "\n",
    "        elif vinkel3 <= 0:\n",
    "            print(\"Ange ett positivt tal i vinkel 3\")\n",
    "            \n",
    "\n",
    "        #Kollar om vinklarna är under 180\n",
    "        elif vinkel1 >= 180:\n",
    "            print(\"Vinkel 1 kan inte vara större än, eller lika med, 180 grader\")\n",
    "            \n",
    "\n",
    "        elif vinkel2 >= 180:\n",
    "            print(\"Vinkel 2 kan inte vara större än, eller lika med, 180 grader\")\n",
    "            \n",
    "\n",
    "        elif vinkel3 >= 180:\n",
    "            print(\"Vinkel 3 kan inte vara större än, eller lika med, 180 grader\")\n",
    "            \n",
    "\n",
    "\n",
    "        #Kollar om vinklarna är räta\n",
    "        elif vinkel1 == 90:\n",
    "            print(\"Vinkel 1 är en rät vinkel\")\n",
    "            \n",
    "\n",
    "            if vinkel2 > 0 and vinkel1 < 360:\n",
    "                print(\"\\tVinkel 2 är inte en rät vinkel\")\n",
    "                \n",
    "\n",
    "                if vinkel3 > 0 and vinkel1 < 180:\n",
    "                    print(\"\\tVinkel 3 är inte en rät vinkel\")\n",
    "                    \n",
    "\n",
    "        elif vinkel2 == 90:\n",
    "            print(\"Vinkel 2 är en rät vinkel\")\n",
    "            \n",
    "\n",
    "            if vinkel1 > 0 and vinkel1 < 180:\n",
    "                print(\"\\tVinkel 1 är inte en rät vinkel\")\n",
    "                \n",
    "\n",
    "                if vinkel3 > 0 and vinkel1 < 180:\n",
    "                    print(\"\\tVinkel 3 är inte en rät vinkel\")\n",
    "                    \n",
    "\n",
    "        elif vinkel3 == 90:\n",
    "            print(\"Vinkel 3 är en rät vinkel\")\n",
    "            \n",
    "\n",
    "            if vinkel1 > 0 and vinkel1 < 180:\n",
    "                print(\"\\tVinkel 1 är inte en rät vinkel\")\n",
    "                \n",
    "\n",
    "                if vinkel2 > 0 and vinkel1 < 180:\n",
    "                    print(\"\\tVinkel 2 är inte en rät vinkel\")\n",
    "                    \n",
    "\n",
    "\n",
    "\n",
    "        #Kollar om vinklarna är giltiga men ej räta\n",
    "        elif vinkel1 > 0 and vinkel1 < 180:\n",
    "            print(\"Vinkel 1 är inte en rät vinkel\")\n",
    "            \n",
    "\n",
    "            if vinkel2 > 0 and vinkel1 < 180:\n",
    "                print(\"Vinkel 2 är inte en rät vinkel\")\n",
    "                \n",
    "\n",
    "                if vinkel3 > 0 and vinkel1 < 180:\n",
    "                    print(\"Vinkel 3 är inte en rät vinkel\")\n",
    "\n",
    "\n",
    "\n",
    "        elif vinkel2 > 0 and vinkel1 < 180:\n",
    "            print(\"Vinkel 2 är inte en rät vinkel\")\n",
    "\n",
    "            if vinkel3 > 0 and vinkel1 < 180:\n",
    "                print(\"Vinkel 3 är inte en rät vinkel\")\n",
    "\n",
    "       \n",
    "        elif vinkel3 > 0 and vinkel1 < 180:\n",
    "            print(\"Vinkel 3 är inte en rät vinkel\")\n",
    "        \n",
    "\n",
    "#felmeddelande om något annat än ett tal anges\n",
    "except ValueError:\n",
    "    print(\"Ange tal\")"
   ]
  },
  {
   "cell_type": "code",
   "execution_count": null,
   "metadata": {},
   "outputs": [],
   "source": [
    "3"
   ]
  }
 ]
}