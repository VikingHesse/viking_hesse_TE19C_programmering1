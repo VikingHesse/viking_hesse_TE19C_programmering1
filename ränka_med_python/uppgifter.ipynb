{
 "metadata": {
  "language_info": {
   "codemirror_mode": {
    "name": "ipython",
    "version": 3
   },
   "file_extension": ".py",
   "mimetype": "text/x-python",
   "name": "python",
   "nbconvert_exporter": "python",
   "pygments_lexer": "ipython3",
   "version": "3.8.3-final"
  },
  "orig_nbformat": 2,
  "kernelspec": {
   "name": "python_defaultSpec_1599807813974",
   "display_name": "Python 3.8.3 64-bit ('base': conda)"
  }
 },
 "nbformat": 4,
 "nbformat_minor": 2,
 "cells": [
  {
   "cell_type": "markdown",
   "metadata": {},
   "source": [
    "# Notebook\n",
    "\n",
    "## Detta är en Jupyter Notebook\n",
    "\n",
    "$F = mg$"
   ]
  },
  {
   "cell_type": "markdown",
   "metadata": {},
   "source": []
  },
  {
   "cell_type": "code",
   "execution_count": 6,
   "metadata": {
    "tags": []
   },
   "outputs": [
    {
     "output_type": "stream",
     "name": "stdout",
     "text": "Din tyngkraft är 392.8N\n"
    }
   ],
   "source": [
    "#Skapar en variabel g och tilldelar det värdet 9.82\n",
    "g = 9.82\n",
    "\n",
    "#Insätter vikten i variabeln m\n",
    "m = float(input(\"Hur mycket väger du? \"))\n",
    "\n",
    "#Beräknar tyngkraften\n",
    "F = m*g\n",
    "\n",
    "#Skriver ut resultatet\n",
    "print(f\"Din tyngkraft är {F}N\")"
   ]
  },
  {
   "cell_type": "code",
   "execution_count": 1,
   "metadata": {
    "tags": []
   },
   "outputs": [
    {
     "output_type": "stream",
     "name": "stdout",
     "text": "31.23%\n"
    }
   ],
   "source": [
    "#ange decimalen\n",
    "decimal = float(input(\"Ange decimal: \"))\n",
    "\n",
    "#omvandlar till procent\n",
    "procent = round(decimal * 100,2)\n",
    "\n",
    "#skriver ut resultatet\n",
    "print(f\"{procent}%\")"
   ]
  },
  {
   "cell_type": "code",
   "execution_count": 6,
   "metadata": {
    "tags": []
   },
   "outputs": [
    {
     "output_type": "stream",
     "name": "stdout",
     "text": "300.0 kelvin är 26.85 celsius\n"
    }
   ],
   "source": [
    "#ange temperatur i kelvin\n",
    "kelvin = float(input(\"Ange temperatur i Kelvin: \"))\n",
    "\n",
    "celsius = round(kelvin - 273.15, 3)\n",
    "\n",
    "print(f\"{kelvin} kelvin är {celsius} celsius\")\n"
   ]
  },
  {
   "cell_type": "code",
   "execution_count": 10,
   "metadata": {
    "tags": []
   },
   "outputs": [
    {
     "output_type": "stream",
     "name": "stdout",
     "text": "0.0 celsius är 273.15 kelvin\n"
    }
   ],
   "source": [
    "#ange temperatur i celsius\n",
    "celsius = float(input(\"Ange temperatur i celsius: \"))\n",
    "\n",
    "kelvin = round(celsius + 273.15, 3)\n",
    "\n",
    "print(f\"{celsius} celsius är {kelvin} kelvin\")"
   ]
  },
  {
   "cell_type": "code",
   "execution_count": 1,
   "metadata": {
    "tags": []
   },
   "outputs": [
    {
     "output_type": "stream",
     "name": "stdout",
     "text": "Med engångsbiljetter kostar det 150kr per månad\nDet är inte värt att köpa ett månadskort, det kostar 775kr och du spenderar 150kr på engångsbiljetter per månad\n"
    }
   ],
   "source": [
    "engångsbiljett = 30\n",
    "månadskort = 775\n",
    "\n",
    "resor = int(input(\"Hur många gånger reser du per månad? \"))\n",
    "\n",
    "kostnad = resor * engångsbiljett\n",
    "\n",
    "print(f\"Med engångsbiljetter kostar det {kostnad}kr per månad\")\n",
    "\n",
    "if kostnad > månadskort:\n",
    "    print(f\"Det är värt att köpa ett månadskort, det kostar {månadskort}kr och du spenderar {kostnad}på engångsbiljetter per månad\")\n",
    "elif kostnad < månadskort:\n",
    "    print(f\"Det är inte värt att köpa ett månadskort, det kostar {månadskort}kr och du spenderar {kostnad}kr på engångsbiljetter per månad\")"
   ]
  },
  {
   "cell_type": "markdown",
   "metadata": {},
   "source": [
    "\n",
    "\n",
    "Programmeringsövningshäfte "
   ]
  },
  {
   "cell_type": "code",
   "execution_count": 13,
   "metadata": {
    "tags": []
   },
   "outputs": [
    {
     "output_type": "stream",
     "name": "stdout",
     "text": "Den andra katetern är 10.909\n"
    }
   ],
   "source": [
    "#1\n",
    "import math\n",
    "h = float(input(\"Hypotenusa: \"))\n",
    "k1 = float(input(\"första katetern: \"))\n",
    "k1h = (h**2-k1**2)\n",
    "k2 = round(math.sqrt(k1h), 3)\n",
    "\n",
    "print(f\"Den andra katetern är {k2}\")\n"
   ]
  },
  {
   "cell_type": "code",
   "execution_count": 3,
   "metadata": {
    "tags": []
   },
   "outputs": [
    {
     "output_type": "stream",
     "name": "stdout",
     "text": "8.0\n"
    }
   ],
   "source": [
    "#2\n",
    "\n",
    "b = float(input(\"Ange basen: \"))\n",
    "h = float(input(\"Ange höjden: \"))\n",
    "\n",
    "area = b*h / 2\n",
    "\n",
    "print(area)"
   ]
  },
  {
   "cell_type": "code",
   "execution_count": 6,
   "metadata": {
    "tags": []
   },
   "outputs": [
    {
     "output_type": "stream",
     "name": "stdout",
     "text": "pH värde: 7.0\n"
    }
   ],
   "source": [
    "#3\n",
    "import math\n",
    "\n",
    "vätejoner = float(input(\"Antal vätejoner i decimalform:\"))\n",
    "\n",
    "logarithm = math.log(vätejoner, 10)\n",
    "\n",
    "print(f\"pH värde: {-(logarithm)}\")"
   ]
  },
  {
   "cell_type": "code",
   "execution_count": 10,
   "metadata": {
    "tags": []
   },
   "outputs": [
    {
     "output_type": "stream",
     "name": "stdout",
     "text": "Avståndet är 4.123\n"
    }
   ],
   "source": [
    "#4\n",
    "\n",
    "import math\n",
    "\n",
    "x1 = float(input(\"Ange första punktens x värde:\"))\n",
    "y1 = float(input(\"Ange första punktens y värde:\"))\n",
    "x2 = float(input(\"Ange andra punktens x värde:\"))\n",
    "y2 = float(input(\"Ange andra punktens y värde:\"))\n",
    "\n",
    "d = math.sqrt((x2 - x1)**2 + (y2 - y1)**2)\n",
    "\n",
    "print (f\"Avståndet är {round(d, 3)}\")"
   ]
  },
  {
   "cell_type": "code",
   "execution_count": 16,
   "metadata": {
    "tags": []
   },
   "outputs": [
    {
     "output_type": "stream",
     "name": "stdout",
     "text": "Numret är 0\n"
    }
   ],
   "source": [
    "#5\n",
    "\n",
    "nummer = float(input(\"Ange en siffra eller nummer: \"))\n",
    "\n",
    "if nummer == 0:\n",
    "    print(\"Numret är 0\")\n",
    "elif nummer > 0:\n",
    "    print(\"Numret är positivt\")\n",
    "else:\n",
    "    print(\"Numret är negativt\")\n"
   ]
  },
  {
   "cell_type": "code",
   "execution_count": 1,
   "metadata": {
    "tags": []
   },
   "outputs": [
    {
     "output_type": "stream",
     "name": "stdout",
     "text": "Talet är udda\n"
    }
   ],
   "source": [
    "#6\n",
    "\n",
    "tal = int(input(\"Ange tal:\"))\n",
    "\n",
    "if tal % 2 == 0 and tal % 5 != 0:\n",
    "    print(\"Talet är jämt\")\n",
    "\n",
    "elif tal % 2 != 0 and tal % 5 != 0:\n",
    "    print(\"Talet är udda\")\n",
    "\n",
    "elif tal % 2 == 0 and tal % 5 == 0:\n",
    "    print(\"Talet är jämt och delbart med 5\") \n",
    "\n",
    "elif tal % 2 != 0 and tal % 5 == 0:\n",
    "    print(\"Talet är udda och delbart med 5\")\n"
   ]
  },
  {
   "cell_type": "code",
   "execution_count": null,
   "metadata": {},
   "outputs": [],
   "source": []
  }
 ]
}