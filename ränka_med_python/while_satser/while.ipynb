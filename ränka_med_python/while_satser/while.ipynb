{
 "metadata": {
  "language_info": {
   "codemirror_mode": {
    "name": "ipython",
    "version": 3
   },
   "file_extension": ".py",
   "mimetype": "text/x-python",
   "name": "python",
   "nbconvert_exporter": "python",
   "pygments_lexer": "ipython3",
   "version": "3.8.3-final"
  },
  "orig_nbformat": 2,
  "kernelspec": {
   "name": "Python 3.8.3 64-bit ('base': conda)",
   "display_name": "Python 3.8.3 64-bit ('base': conda)",
   "metadata": {
    "interpreter": {
     "hash": "5fa782649c743c22c8d6102b311018506ae76162031c08e4ab1b61206b2e17dd"
    }
   }
  }
 },
 "nbformat": 4,
 "nbformat_minor": 2,
 "cells": [
  {
   "cell_type": "code",
   "execution_count": 1,
   "metadata": {
    "tags": []
   },
   "outputs": [
    {
     "output_type": "stream",
     "name": "stdout",
     "text": "Efter 1 år finns det 4000 fåglar kvar på ön.\nEfter 2 år finns det 2000 fåglar kvar på ön.\nEfter 3 år finns det 1000 fåglar kvar på ön.\nEfter 4 år finns det 500 fåglar kvar på ön.\n\nEfter 4 år finns det mindre än en tiondels fåglar kvar på ön.\n"
    }
   ],
   "source": [
    "fåglar = 8000\n",
    "tiondel_fåglar = fåglar * 0.1\n",
    "år = 0\n",
    "\n",
    "while fåglar > tiondel_fåglar:\n",
    "    fåglar /= 2\n",
    "    år += 1\n",
    "    print(f\"Efter {år} år finns det {int(fåglar)} fåglar kvar på ön.\")\n",
    "\n",
    "print(\"\")\n",
    "print(f\"Efter {år} år finns det mindre än en tiondels fåglar kvar på ön.\")"
   ]
  },
  {
   "cell_type": "code",
   "execution_count": 1,
   "metadata": {
    "tags": []
   },
   "outputs": [
    {
     "output_type": "stream",
     "name": "stdout",
     "text": [
      "5050\n"
     ]
    }
   ],
   "source": [
    "#1\n",
    "s = 0\n",
    "nummer = 0\n",
    "\n",
    "while s < 100:\n",
    "    s += 1\n",
    "    nummer += s\n",
    "\n",
    "print(nummer)"
   ]
  },
  {
   "cell_type": "code",
   "execution_count": 1,
   "metadata": {
    "tags": []
   },
   "outputs": [
    {
     "output_type": "stream",
     "name": "stdout",
     "text": "2500\n"
    }
   ],
   "source": [
    "#2\n",
    "s = 1\n",
    "nummer = 1\n",
    "\n",
    "while s < 99:\n",
    "    s += 2\n",
    "    nummer += s\n",
    "\n",
    "print(nummer)"
   ]
  },
  {
   "cell_type": "code",
   "execution_count": 26,
   "metadata": {},
   "outputs": [
    {
     "output_type": "stream",
     "name": "stdout",
     "text": [
      "1.998046875\n"
     ]
    }
   ],
   "source": [
    "#3\n",
    "n = int(input(\"Ange ett tal: \"))\n",
    "start = 1\n",
    "summa = 1\n",
    "i = 0 \n",
    "\n",
    "while start <= n:\n",
    "\n",
    "    for i in range(n):\n",
    "\n",
    "        summa += 1/(2**(n - i))\n",
    "        i += 1\n",
    "        start = start * 2\n",
    "\n",
    "print(summa)"
   ]
  },
  {
   "cell_type": "code",
   "execution_count": 25,
   "metadata": {
    "tags": []
   },
   "outputs": [
    {
     "output_type": "stream",
     "name": "stdout",
     "text": [
      "\n",
      "Ditt tal (10) är för litet\n",
      "\n",
      "Ditt tal (16) är för litet\n",
      "Men du är väldigt nära\n",
      "\n",
      "Ditt tal (18) är för stort\n",
      "Men du är väldigt nära\n",
      "\n",
      "Ditt tal (19) är för stort\n",
      "Men du är väldigt nära\n",
      "\n",
      "Ditt tal (20) är för stort\n",
      "\n",
      "Svaret var 17. Du fick rätt! Grattis\n"
     ]
    }
   ],
   "source": [
    "#5\n",
    "import random\n",
    "gissning = 0\n",
    "rätt = random.randint(0, 100)\n",
    "\n",
    "\n",
    "while gissning != rätt:\n",
    "    print(\"\")\n",
    "\n",
    "    gissning = int(input(\"Gissa ett heltal mellan 0-100: \"))\n",
    "\n",
    "\n",
    "    if gissning > rätt:\n",
    "        print(f\"Ditt tal ({gissning}) är för stort\")\n",
    "\n",
    "        #abs = absolutbelopp, används för att göra negativa tal till positiva för att kunna jämföra de med 2. \n",
    "        if abs(rätt - gissning) <= 2:\n",
    "            print(\"Men du är väldigt nära\")\n",
    "\n",
    "\n",
    "    elif gissning < rätt:\n",
    "        print(f\"Ditt tal ({gissning}) är för litet\")\n",
    "\n",
    "        if abs(gissning - rätt) <= 2:\n",
    "            print(\"Men du är väldigt nära\")\n",
    "        \n",
    "    elif gissning == rätt:\n",
    "        print(f\"Svaret var {rätt}. Du fick rätt! Grattis\")\n"
   ]
  },
  {
   "cell_type": "code",
   "execution_count": 11,
   "metadata": {},
   "outputs": [
    {
     "output_type": "stream",
     "name": "stdout",
     "text": [
      "Efter 1 finns det 2250000 antal bakterier\nEfter 2 finns det 3375000 antal bakterier\nEfter 3 finns det 5062500 antal bakterier\nEfter 4 finns det 7593750 antal bakterier\nEfter 5 finns det 11390625 antal bakterier\n\nEfter 5 timmar finns det 11390625 bakterier i mjölken. Dvs 1390625 fler än 10 miljoner. Den blir alltså sur efter 5 timmar\n"
     ]
    }
   ],
   "source": [
    "\"\"\"\n",
    "1L mjölk har 1500000 bakterier. I rumstemp ökar antalet bakterier med 50% varje timme\n",
    "Mjölk blir sur när bakterierna överstiger 10000000 bakterier. Hur många timmar tills mjölken blir sur.\n",
    "\"\"\"\n",
    "\n",
    "bakterier = 1500000\n",
    "timmar = 0 \n",
    "\n",
    "while bakterier < 10000000:\n",
    "    bakterier = bakterier * 1.5\n",
    "    timmar += 1\n",
    "    print(f\"Efter {timmar} finns det {int(bakterier)} antal bakterier\")\n",
    "\n",
    "print(\"\")\n",
    "print(f\"Efter {timmar} timmar finns det {int(bakterier)} bakterier i mjölken. Dvs {int(bakterier-10000000)} fler än 10 miljoner. Den blir alltså sur efter {timmar} timmar\")\n",
    "\n"
   ]
  },
  {
   "cell_type": "code",
   "execution_count": null,
   "metadata": {},
   "outputs": [],
   "source": []
  }
 ]
}