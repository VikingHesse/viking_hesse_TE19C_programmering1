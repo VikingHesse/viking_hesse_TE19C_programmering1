{
 "metadata": {
  "language_info": {
   "codemirror_mode": {
    "name": "ipython",
    "version": 3
   },
   "file_extension": ".py",
   "mimetype": "text/x-python",
   "name": "python",
   "nbconvert_exporter": "python",
   "pygments_lexer": "ipython3",
   "version": "3.8.3-final"
  },
  "orig_nbformat": 2,
  "kernelspec": {
   "name": "Python 3.8.3 64-bit ('base': conda)",
   "display_name": "Python 3.8.3 64-bit ('base': conda)",
   "metadata": {
    "interpreter": {
     "hash": "5fa782649c743c22c8d6102b311018506ae76162031c08e4ab1b61206b2e17dd"
    }
   }
  }
 },
 "nbformat": 4,
 "nbformat_minor": 2,
 "cells": [
  {
   "cell_type": "code",
   "execution_count": 1,
   "metadata": {
    "tags": []
   },
   "outputs": [
    {
     "output_type": "stream",
     "name": "stdout",
     "text": "Efter 1 år finns det 4000 fåglar kvar på ön.\nEfter 2 år finns det 2000 fåglar kvar på ön.\nEfter 3 år finns det 1000 fåglar kvar på ön.\nEfter 4 år finns det 500 fåglar kvar på ön.\n\nEfter 4 år finns det mindre än en tiondels fåglar kvar på ön.\n"
    }
   ],
   "source": [
    "fåglar = 8000\n",
    "tiondel_fåglar = fåglar * 0.1\n",
    "år = 0\n",
    "\n",
    "while fåglar > tiondel_fåglar:\n",
    "    fåglar /= 2\n",
    "    år += 1\n",
    "    print(f\"Efter {år} år finns det {int(fåglar)} fåglar kvar på ön.\")\n",
    "\n",
    "print(\"\")\n",
    "print(f\"Efter {år} år finns det mindre än en tiondels fåglar kvar på ön.\")"
   ]
  },
  {
   "cell_type": "code",
   "execution_count": null,
   "metadata": {
    "tags": []
   },
   "outputs": [],
   "source": [
    "#1\n",
    "s = 0\n",
    "nummer = 0\n",
    "\n",
    "while s < 100:\n",
    "    s += 1\n",
    "    nummer += s\n",
    "\n",
    "print(nummer)"
   ]
  },
  {
   "cell_type": "code",
   "execution_count": 1,
   "metadata": {
    "tags": []
   },
   "outputs": [
    {
     "output_type": "stream",
     "name": "stdout",
     "text": "2500\n"
    }
   ],
   "source": [
    "#2\n",
    "s = 1\n",
    "nummer = 1\n",
    "\n",
    "while s < 99:\n",
    "    s += 2\n",
    "    nummer += s\n",
    "\n",
    "print(nummer)"
   ]
  },
  {
   "cell_type": "code",
   "execution_count": 4,
   "metadata": {
    "tags": []
   },
   "outputs": [
    {
     "output_type": "stream",
     "name": "stdout",
     "text": "\nDitt tal (50) är för stort\n\nDitt tal (25) är för stort\n\nDitt tal (10) är för stort\nMen du är väldigt nära\n\nDitt tal (11) är för stort\nMen du är väldigt nära\n\nDitt tal (12) är för stort\n\nSvaret var 9. Du fick rätt! Grattis\n"
    }
   ],
   "source": [
    "#5\n",
    "import random\n",
    "gissning = 0\n",
    "rätt = random.randint(0, 100)\n",
    "\n",
    "\n",
    "while gissning != rätt:\n",
    "    print(\"\")\n",
    "\n",
    "    gissning = int(input(\"Gissa ett heltal mellan 0-100: \"))\n",
    "\n",
    "\n",
    "    if gissning > rätt:\n",
    "        print(f\"Ditt tal ({gissning}) är för stort\")\n",
    "\n",
    "        #abs = absolutbelopp, används för att göra negativa tal till positiva för att kunna jämföra de med 2. \n",
    "        if abs(rätt - gissning) <= 2:\n",
    "            print(\"Men du är väldigt nära\")\n",
    "\n",
    "\n",
    "    elif gissning < rätt:\n",
    "        print(f\"Ditt tal ({gissning}) är för litet\")\n",
    "\n",
    "        if abs(gissning - rätt) <= 2:\n",
    "            print(\"Men du är väldigt nära\")\n",
    "        \n",
    "    elif gissning == rätt:\n",
    "        print(f\"Svaret var {rätt}. Du fick rätt! Grattis\")\n"
   ]
  },
  {
   "cell_type": "code",
   "execution_count": null,
   "metadata": {},
   "outputs": [],
   "source": [
    "n = 1\n",
    "\"\"\"\n",
    "while n < 10:\n",
    "    print(n, end=\" \")\n",
    "    n += 1\n",
    "\"\"\"\n",
    "\n",
    "summa = 0\n",
    "while n < 10:\n",
    "    summa = summa + n \n",
    "    n += 2\n",
    "\n",
    "print(summa)"
   ]
  },
  {
   "cell_type": "code",
   "execution_count": null,
   "metadata": {},
   "outputs": [],
   "source": []
  }
 ]
}