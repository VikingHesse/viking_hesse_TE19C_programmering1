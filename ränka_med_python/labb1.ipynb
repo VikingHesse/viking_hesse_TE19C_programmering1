{
 "metadata": {
  "language_info": {
   "codemirror_mode": {
    "name": "ipython",
    "version": 3
   },
   "file_extension": ".py",
   "mimetype": "text/x-python",
   "name": "python",
   "nbconvert_exporter": "python",
   "pygments_lexer": "ipython3",
   "version": "3.8.3-final"
  },
  "orig_nbformat": 2,
  "kernelspec": {
   "name": "Python 3.8.3 64-bit ('base': conda)",
   "display_name": "Python 3.8.3 64-bit ('base': conda)",
   "metadata": {
    "interpreter": {
     "hash": "5fa782649c743c22c8d6102b311018506ae76162031c08e4ab1b61206b2e17dd"
    }
   }
  }
 },
 "nbformat": 4,
 "nbformat_minor": 2,
 "cells": [
  {
   "source": [
    "Programmeringslaboration 1 - Uppgift 1\n"
   ],
   "cell_type": "markdown",
   "metadata": {}
  },
  {
   "cell_type": "code",
   "execution_count": 2,
   "metadata": {},
   "outputs": [
    {
     "output_type": "stream",
     "name": "stdout",
     "text": [
      "0.7071067811865476\n"
     ]
    }
   ],
   "source": [
    "#(a)\n",
    "#Importera math för att kunna använda roten ur\n",
    "import math\n",
    "\n",
    "#Gör variablar x och y samt ger de värdena 0.5 och 0.5\n",
    "x = 0.5\n",
    "y = 0.5\n",
    "\n",
    "#Använder pytagoras sats för att ta redo på hypotenusan (h)\n",
    "h = math.sqrt((x ** 2) + (y ** 2))\n",
    "\n",
    "#Skriver ut hypotenusan\n",
    "print(h)"
   ]
  },
  {
   "cell_type": "code",
   "execution_count": 3,
   "metadata": {},
   "outputs": [
    {
     "output_type": "stream",
     "name": "stdout",
     "text": [
      "1.4142135623730951\n"
     ]
    }
   ],
   "source": [
    "#(b)\n",
    "# Exakt samma som föregående uppgift bara att jag har ändrat x och y värdena \n",
    "import math\n",
    "\n",
    "x = 1\n",
    "y = 1\n",
    "\n",
    "h = math.sqrt((x ** 2) + (y ** 2))\n",
    "\n",
    "print(h)"
   ]
  },
  {
   "cell_type": "code",
   "execution_count": 5,
   "metadata": {},
   "outputs": [
    {
     "output_type": "stream",
     "name": "stdout",
     "text": [
      "0.7071067811865476\n"
     ]
    }
   ],
   "source": [
    "#(c)\n",
    "# Exakt samma som föregående uppgift bara att jag har ändrat x och y värdena \n",
    "import math \n",
    "\n",
    "x = 0.5\n",
    "y = -0.5\n",
    "\n",
    "h = math.sqrt((x ** 2) + (y ** 2))\n",
    "\n",
    "print(h)"
   ]
  },
  {
   "cell_type": "code",
   "execution_count": 6,
   "metadata": {},
   "outputs": [
    {
     "output_type": "stream",
     "name": "stdout",
     "text": [
      "x: -0.41361793759446397  y: 0.2118841674161327\nx: -0.542987720850044  y: -0.0409915477163707\nx: -0.1508598901578344  y: -0.6344231236623865\nx: 0.1708147068880168  y: -0.45285245369138716\nx: -0.9173322800731805  y: 0.8232647486073599\nx: -0.4564870768725382  y: -0.34992492190820634\nx: 0.9784775502165148  y: 0.47663448598621394\nx: 0.6394652289875393  y: 0.8032737175071567\nx: 0.10225484045229072  y: 0.9306046949700089\nx: -0.6749557100642463  y: -0.8987728689699692\nx: 0.3815923555513572  y: 0.11939379640594527\nx: 0.41936767269639397  y: 0.1882345137146788\nx: 0.11036015229832596  y: -0.7613797524400305\nx: -0.10632644830369209  y: 0.06245766564133515\nx: -0.39796593860516105  y: 0.5903593185914842\nx: -0.30902547040425676  y: 0.8887251219816816\nx: -0.2724059425525722  y: -0.0828684028611637\nx: 0.3187246025677075  y: -0.01995517291423421\nx: -0.264878493575482  y: 0.8685819157343864\nx: 0.9122897412844979  y: -0.042500176210980456\nx: 0.3015825567495445  y: -0.6802576317026183\nx: -0.9728268636681823  y: -0.3253559917878577\nx: -0.5237082434575719  y: 0.2262596000834205\nx: -0.9669349275181067  y: 0.7201327354785436\nx: 0.6188039983744884  y: -0.7385841721752147\nx: 0.5702384576931836  y: -0.23756050512934057\nx: -0.4834467933513571  y: -0.8115073208570092\nx: -0.45680050418740636  y: 0.0379927518343548\nx: -0.7042926603928803  y: -0.08618698855510298\nx: 0.05623875917869414  y: -0.49786799651944635\nx: 0.017652183006431343  y: -0.024382567308343095\nx: 0.8347056144293545  y: 0.6714415173533466\nx: 0.33250170805075796  y: 0.9817863511486273\nx: 0.04323482530817735  y: 0.45015504760263814\nx: 0.32011782380518294  y: 0.1934875716928366\nx: -0.561735883544598  y: -0.9926866267254495\nx: -0.8737061312489727  y: 0.2756928484553953\nx: -0.7208753327529447  y: 0.29528531361584465\nx: 0.5350827210092648  y: 0.06060557491286289\nx: 0.8921388396298611  y: 0.7071280100046979\nx: 0.6898314972714614  y: -0.8176604807311512\nx: -0.6562094732732382  y: -0.7036494851779587\nx: 0.23670643825959514  y: 0.30900220577524085\nx: 0.8575378790429575  y: 0.17136892711507978\nx: 0.7726998125750273  y: -0.7477223155822221\nx: 0.5109239146692148  y: 0.9724089807539722\nx: -0.042177569233592616  y: 0.7628327690520806\nx: -0.8259493641440434  y: 0.3670719065718222\nx: 0.6946719026885291  y: -0.6518079447181688\nx: 0.8229701335525115  y: -0.3155081829801334\nx: -0.005299648417866676  y: -0.29259037230008844\nx: 0.06089179550107415  y: 0.44250414263028737\nx: 0.04940268154115901  y: -0.4453467572177354\nx: 0.4730541468765139  y: -0.8947324893698916\nx: 0.2830105259926605  y: 0.04243011869585245\nx: -0.2644026305563154  y: -0.7223852755712299\nx: 0.8520723470642826  y: 0.38181855708802326\nx: -0.5345748424319641  y: -0.6473235042875045\nx: 0.0501333857327777  y: 0.24761322578780476\nx: 0.9459568282929256  y: 0.3871996857270694\nx: 0.44548873737754513  y: -0.4002701252436389\nx: -0.9697572250577615  y: 0.6868145651823618\nx: -0.22376630412083887  y: -0.9259268703681118\nx: -0.7934371517051573  y: 0.11405055963403155\nx: -0.4471267588072527  y: -0.40671105774093275\nx: 0.9842254526084797  y: -0.5644376344638355\nx: 0.7022537812450034  y: -0.3945987077472304\nx: 0.21831547870308232  y: -0.7390511089352279\nx: 0.859031104219822  y: -0.7894286514235664\nx: -0.6128152118498911  y: 0.23842432818206372\nx: -0.16701353197024993  y: 0.512771178964138\nx: 0.2810364888478065  y: -0.45852192223800325\nx: -0.3124520326609701  y: -0.9716370470123716\nx: -0.6444512639062931  y: 0.08007537309536272\nx: -0.9144972880704914  y: 0.20209127490332612\nx: -0.8895801817367701  y: 0.386198969316774\nx: 0.6429857787336037  y: -0.8630091022107516\nx: -0.431686399167053  y: -0.2222603170629227\nx: 0.6058494566449235  y: -0.5516220171284669\nx: -0.30365657888997677  y: 0.4297289006720417\nx: -0.17017247311783845  y: 0.16137835362209607\nx: -0.8330762821484714  y: -0.7884591083929853\nx: 0.37998049915618526  y: -0.09365432430159837\nx: 0.5781133213676661  y: 0.9764768565722275\nx: 0.6755205700860158  y: 0.7585640589540599\nx: 0.8597683191210999  y: -0.9580798096773906\nx: -0.4321557616780365  y: 0.8618123227731427\nx: -0.7914816459295655  y: -0.8867173856116246\nx: -0.30121416868287465  y: -0.8667053067295929\nx: -0.16214948054103773  y: 0.8373404109787739\nx: -0.6739540108483983  y: -0.8553478433220849\nx: -0.4031534781748414  y: 0.4255913658691739\nx: -0.7730617975956204  y: -0.9761424246888888\nx: 0.40590281409485507  y: 0.5414091819893208\nx: -0.4445336252940195  y: 0.38236897426039396\nx: 0.2878523427171602  y: 0.9551305693063605\nx: 0.24721504949407214  y: 0.9545107384133187\nx: 0.2851369934740502  y: -0.8980702774138158\nx: -0.45101728459546586  y: -0.17950742417995436\nx: -0.5974972664956069  y: -0.9787905865015243\n"
     ]
    }
   ],
   "source": [
    "#(d)\n",
    "import random\n",
    "for i in range (100):\n",
    "    y = random.uniform(-1,1)\n",
    "    x = random.uniform(-1,1)\n",
    "\n",
    "    print(f\"x: {x}  y: {y}\")\n"
   ]
  },
  {
   "cell_type": "code",
   "execution_count": 51,
   "metadata": {},
   "outputs": [
    {
     "output_type": "stream",
     "name": "stdout",
     "text": [
      "0.8\n"
     ]
    }
   ],
   "source": [
    "#(e)\n",
    "import random\n",
    "import math\n",
    "\n",
    "\n",
    "i_cirkeln = []\n",
    "utanför_cirkeln = []\n",
    "simulerade_punkter = 10000\n",
    "\n",
    "for i in range(simulerade_punkter):\n",
    "    punkter = random.uniform(0, 4)\n",
    "\n",
    "    if punkter < math.pi:\n",
    "        i_cirkeln.append(punkter)\n",
    "    \n",
    "    elif punkter > math.pi:\n",
    "        utanför_cirkeln.append(punkter)\n",
    "\n",
    "print(len(i_cirkeln) / simulerade_punkter)\n"
   ]
  },
  {
   "cell_type": "code",
   "execution_count": 108,
   "metadata": {},
   "outputs": [
    {
     "output_type": "stream",
     "name": "stdout",
     "text": [
      "3.1508\n"
     ]
    }
   ],
   "source": [
    "#(f)\n",
    "import random\n",
    "import math\n",
    "\n",
    "\n",
    "i_cirkeln = []\n",
    "utanför_cirkeln = []\n",
    "simulerade_punkter = 10000\n",
    "\n",
    "for i in range(simulerade_punkter):\n",
    "    punkter = random.uniform(0, 4)\n",
    "\n",
    "    if punkter < math.pi:\n",
    "        i_cirkeln.append(punkter)\n",
    "    \n",
    "    elif punkter > math.pi:\n",
    "        utanför_cirkeln.append(punkter)\n",
    "\n",
    "print((len(i_cirkeln) / simulerade_punkter) * 4)\n",
    "\n",
    "#Märker att jag får ett närmevärde till pi, ju fler simulerade punkter jag lägger till desto närmare kommer det. Det får man nog eftersom piltavlan använder en radie på en cirkel, som förhåller sig till arean via pi^2. Varför man bör multiplicera det med 4, vet jag inte riktigt. "
   ]
  },
  {
   "cell_type": "code",
   "execution_count": null,
   "metadata": {},
   "outputs": [],
   "source": [
    "#(g)\n",
    "import random\n",
    "\n",
    "\n",
    "for i in range (100):\n",
    "    y = random.uniform(-1,1)\n",
    "    x = random.uniform(-1,1)\n",
    "\n",
    "    print(f\"x: {x}  y: {y}\")\n",
    "\n",
    "plotcircle\n",
    "plot points"
   ]
  }
 ]
}