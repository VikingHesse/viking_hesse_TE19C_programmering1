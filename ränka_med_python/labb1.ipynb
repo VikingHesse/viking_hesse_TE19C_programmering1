{
 "metadata": {
  "language_info": {
   "codemirror_mode": {
    "name": "ipython",
    "version": 3
   },
   "file_extension": ".py",
   "mimetype": "text/x-python",
   "name": "python",
   "nbconvert_exporter": "python",
   "pygments_lexer": "ipython3",
   "version": "3.8.3-final"
  },
  "orig_nbformat": 2,
  "kernelspec": {
   "name": "Python 3.8.3 64-bit (conda)",
   "display_name": "Python 3.8.3 64-bit (conda)",
   "metadata": {
    "interpreter": {
     "hash": "5fa782649c743c22c8d6102b311018506ae76162031c08e4ab1b61206b2e17dd"
    }
   }
  }
 },
 "nbformat": 4,
 "nbformat_minor": 2,
 "cells": [
  {
   "source": [
    "Programmeringslaboration 1 - Uppgift 1\n"
   ],
   "cell_type": "markdown",
   "metadata": {}
  },
  {
   "cell_type": "code",
   "execution_count": 2,
   "metadata": {},
   "outputs": [
    {
     "output_type": "stream",
     "name": "stdout",
     "text": [
      "0.7071067811865476\n"
     ]
    }
   ],
   "source": [
    "#(a)\n",
    "#Importera math för att kunna använda roten ur\n",
    "import math\n",
    "\n",
    "#Gör variablar x och y samt ger de värdena 0.5 och 0.5\n",
    "x = 0.5\n",
    "y = 0.5\n",
    "\n",
    "#Använder pytagoras sats för att ta redo på hypotenusan (h)\n",
    "h = math.sqrt((x ** 2) + (y ** 2))\n",
    "\n",
    "#Skriver ut hypotenusan\n",
    "print(h)"
   ]
  },
  {
   "cell_type": "code",
   "execution_count": 3,
   "metadata": {},
   "outputs": [
    {
     "output_type": "stream",
     "name": "stdout",
     "text": [
      "1.4142135623730951\n"
     ]
    }
   ],
   "source": [
    "#(b)\n",
    "# Exakt samma som föregående uppgift bara att jag har ändrat x och y värdena \n",
    "import math\n",
    "\n",
    "x = 1\n",
    "y = 1\n",
    "\n",
    "h = math.sqrt((x ** 2) + (y ** 2))\n",
    "\n",
    "print(h)"
   ]
  },
  {
   "cell_type": "code",
   "execution_count": 5,
   "metadata": {},
   "outputs": [
    {
     "output_type": "stream",
     "name": "stdout",
     "text": [
      "0.7071067811865476\n"
     ]
    }
   ],
   "source": [
    "#(c)\n",
    "# Exakt samma som föregående uppgift bara att jag har ändrat x och y värdena \n",
    "import math \n",
    "\n",
    "x = 0.5\n",
    "y = -0.5\n",
    "\n",
    "h = math.sqrt((x ** 2) + (y ** 2))\n",
    "\n",
    "print(h)"
   ]
  },
  {
   "cell_type": "code",
   "execution_count": 45,
   "metadata": {},
   "outputs": [
    {
     "output_type": "stream",
     "name": "stdout",
     "text": [
      "x: 0.6102051294017585  y: -0.6617394887429551\nx: 0.515792932635766  y: 0.9808964271857208\nx: -0.5979774523148327  y: -0.10582488949796698\nx: -0.36001112749024045  y: -0.387793973053534\nx: -0.39480752597473634  y: 0.9465296308665907\nx: 0.38252603156916964  y: -0.9087982922536788\nx: 0.3007063785145292  y: -0.2509595791860071\nx: 0.04121909112183819  y: -0.9680191338265824\nx: 0.14060513760979454  y: 0.19518274295877225\nx: -0.41559595017959183  y: 0.1554241901682647\nx: -0.2902279977878275  y: 0.5076121359758323\nx: 0.6432792002763978  y: -0.535438755519392\nx: 0.5105983823259641  y: 0.3834135599848387\nx: 0.2014778669663042  y: 0.22344744979846154\nx: -0.10312529708269058  y: 0.053397656081618505\nx: -0.7629205285320613  y: -0.3980591600429384\nx: -0.7588660051523421  y: -0.13765533194806845\nx: -0.4178943119288723  y: -0.4421228896434104\nx: -0.609812632675822  y: 0.7645784754146465\nx: -0.9794676557262467  y: -0.09136897747853956\nx: 0.6728209499644244  y: 0.02675432691219859\nx: 0.44491195971292363  y: 0.5770241551163153\nx: 0.7343572562802088  y: -0.2569024562539006\nx: -0.5223554500006191  y: 0.8429177072993828\nx: -0.8513418259308705  y: 0.04775371338051104\nx: 0.23650490430809046  y: 0.798581191702546\nx: -0.37975620945562927  y: 0.7531486575032056\nx: -0.39853651333618223  y: 0.8364890585066884\nx: -0.14277202140886547  y: -0.06821290773224464\nx: -0.9060249425699938  y: -0.9914550812664245\nx: -0.4964727792505852  y: -0.9531872362866327\nx: -0.6730474999133975  y: 0.040455242631241006\nx: -0.8039075997162297  y: -0.16383413281414994\nx: 0.855120322694283  y: -0.9817009726340373\nx: 0.18778321392839636  y: 0.845407468356755\nx: -0.02778233575673794  y: -0.2985687122652372\nx: 0.7978315560688498  y: 0.2143675606068185\nx: 0.5062590777044014  y: -0.9630422143345634\nx: 0.7788860449000876  y: -0.20360235796206871\nx: 0.39138765549380583  y: -0.577842209340566\nx: 0.07626447757836474  y: 0.1952763201599197\nx: 0.3403241049517247  y: 0.21055508459595207\nx: 0.693792961566609  y: 0.2814898098656464\nx: 0.2518812775748114  y: -0.8799476603387277\nx: -0.09589851317229114  y: 0.2829435109721039\nx: 0.2624033155940182  y: -0.34627484605505043\nx: -0.09170670092164146  y: 0.8608033025602824\nx: 0.15878877061094898  y: 0.4622915338025888\nx: -0.10932269504491754  y: 0.0218599381777278\nx: 0.42506623773084895  y: -0.9643795639957893\nx: 0.047046211312338215  y: -0.32641258027299513\nx: -0.7744594715427151  y: -0.25199572676744086\nx: 0.29019607089619726  y: -0.6351627987036024\nx: 0.47011129387230555  y: 0.7547078028725953\nx: 0.4154892628307416  y: -0.8127761333591563\nx: 0.25001552977531083  y: 0.8095684088000665\nx: 0.8286730484827138  y: -0.9558829801958262\nx: 0.010657040370168014  y: 0.058781232916171655\nx: -0.24014443961363607  y: -0.1987167596047239\nx: -0.6913471880236137  y: 0.5554237186100883\nx: -0.04712217988801748  y: 0.7877977207393727\nx: -0.8838924122936209  y: 0.028610245640719345\nx: 0.5128439340931008  y: 0.17714975679857048\nx: 0.26931845229937634  y: -0.28672568933595355\nx: 0.9917574389719879  y: 0.676403399943103\nx: 0.1949480707009601  y: 0.8449750014694328\nx: 0.8690644395071658  y: -0.7875626011152699\nx: 0.8505639293654546  y: -0.3172772486313631\nx: 0.049629539327064265  y: 0.8510392719807272\nx: -0.691591894951086  y: 0.359835051783719\nx: -0.44207157577436207  y: -0.6317652171459922\nx: -0.08319380854707692  y: 0.17108309601028293\nx: -0.4668135488503973  y: -0.9213788109892724\nx: -0.9490987576027217  y: -0.4080184402721767\nx: -0.7091908016174431  y: -0.38893976156252186\nx: -0.5538662827942444  y: 0.8627567395048108\nx: 0.8773813513379258  y: 0.3688037551741503\nx: -0.48171806839988207  y: 0.8243400443002955\nx: -0.6306654104107874  y: -0.6839886940577062\nx: -0.01789056178430104  y: -0.9499326241801449\nx: -0.15878206681876872  y: -0.08511446272119927\nx: -0.5695176090544822  y: -0.918031289706869\nx: 0.5317410507743585  y: 0.29601097022310774\nx: -0.942277624751257  y: 0.1782732446009252\nx: -0.1493707309333363  y: 0.045712920008867286\nx: 0.4587799248469788  y: -0.658788299285568\nx: 0.8736035988882516  y: -0.49969364176116304\nx: -0.6643886231298857  y: 0.16422662906206043\nx: -0.433735887088454  y: 0.5647077817518276\nx: -0.1026869611293415  y: -0.12354611564241558\nx: 0.8639826440405798  y: -0.4529236502352614\nx: 0.1956788638092677  y: 0.49272750316209124\nx: -0.08104384367727846  y: -0.6272222623598525\nx: -0.9846586485181916  y: -0.6571487270416565\nx: -0.5922896253091074  y: 0.5697823035830831\nx: -0.21436689286241184  y: 0.0750760876874148\nx: -0.8356756007201611  y: -0.7449983386372983\nx: 0.7082139204940257  y: 0.8962887321252246\nx: -0.7463465121903001  y: -0.007809547216917956\nx: 0.2162589987801018  y: 0.8332805808121628\n"
     ]
    }
   ],
   "source": [
    "#(d)\n",
    "#Importera random för att kunna använda random.uniform\n",
    "import random\n",
    "\n",
    "#använder en for loop för att skriva ut 100 olika x och y värden. \n",
    "for punkter in range (100):\n",
    "    y = random.uniform(-1,1)\n",
    "    x = random.uniform(-1,1)\n",
    "\n",
    "    print(f\"x: {x}  y: {y}\")\n"
   ]
  },
  {
   "cell_type": "code",
   "execution_count": 58,
   "metadata": {},
   "outputs": [
    {
     "output_type": "stream",
     "name": "stdout",
     "text": [
      "0.78599\n"
     ]
    }
   ],
   "source": [
    "#(e)\n",
    "#Importerar random för random.uniform och math för att använda math.pi\n",
    "import random\n",
    "import math\n",
    "\n",
    "\"\"\"\n",
    "Gör tre variabler\n",
    "- i_cirkeln som sparar antal punkter som skapas inuti cirkeln (börjar på 0)\n",
    "- utanför_cirkeln som sparar antal punkter som skapas utanför cirkeln (börjar på 0) (behövs egentligen inte för     uppgiften med valde att lägga till det ändå då det kanske kan underlätta i andra uppgifter)\n",
    "- simulerade_punkter som är antalet punkter som simuleras, kan ändras enkelt\n",
    "\"\"\"\n",
    "i_cirkeln = 0\n",
    "utanför_cirkeln = 0\n",
    "simulerade_punkter = 100000\n",
    "\n",
    "#Skapar en for loop som gör x och y punkter\n",
    "for i in range (simulerade_punkter):\n",
    "    y = random.uniform(-1,1)\n",
    "    x = random.uniform(-1,1)\n",
    "\n",
    "    #Ifall punkten hamnar inuti cirkeln (att punkten hamnar närmare origo än radien på cirkeln (dvs under 1))\n",
    "    if x**2 + y**2 <= 1**2:\n",
    "        i_cirkeln += 1\n",
    "        \n",
    "    #Ifall punkten hamnar utanför cirkeln (att punkten hamnar längre från origo än radien på cirkeln (dvs över 1))\n",
    "    elif x**2 + y**2 >= 1**2:\n",
    "        utanför_cirkeln += 1\n",
    "\n",
    "#Skriver ut antalet punkter i cirkeln delat på antalet simulerade punkter\n",
    "print((i_cirkeln / simulerade_punkter))\n"
   ]
  },
  {
   "cell_type": "code",
   "execution_count": 92,
   "metadata": {},
   "outputs": [
    {
     "output_type": "stream",
     "name": "stdout",
     "text": [
      "3.13808\n"
     ]
    }
   ],
   "source": [
    "#(f)\n",
    "#Exakt samma kod som förra uppgiften men har lagt till ett \"* 4\" på slutet för att multiplicera med fyra.\n",
    "i_cirkeln = 0\n",
    "utanför_cirkeln = 0\n",
    "simulerade_punkter = 100000\n",
    "\n",
    "for i in range (simulerade_punkter):\n",
    "    y = random.uniform(-1,1)\n",
    "    x = random.uniform(-1,1)\n",
    "\n",
    "    if x**2 + y**2 <= 1**2:\n",
    "        i_cirkeln += 1\n",
    "        \n",
    "    elif x**2 + y**2 >= 1**2:\n",
    "        utanför_cirkeln += 1\n",
    "\n",
    "\n",
    "print((i_cirkeln / simulerade_punkter) * 4)\n",
    "\n",
    "#Märker att jag får ett närmevärde till pi, ju fler simulerade punkter jag lägger till desto närmare kommer det. Det får man nog eftersom piltavlan använder en radie på en cirkel, som förhåller sig till arean via pi^2. Varför man bör multiplicera det med 4, vet jag inte riktigt. "
   ]
  },
  {
   "cell_type": "code",
   "execution_count": 94,
   "metadata": {},
   "outputs": [
    {
     "output_type": "display_data",
     "data": {
      "text/plain": "<Figure size 432x288 with 1 Axes>",
      "image/svg+xml": "<?xml version=\"1.0\" encoding=\"utf-8\" standalone=\"no\"?>\r\n<!DOCTYPE svg PUBLIC \"-//W3C//DTD SVG 1.1//EN\"\r\n  \"http://www.w3.org/Graphics/SVG/1.1/DTD/svg11.dtd\">\r\n<!-- Created with matplotlib (https://matplotlib.org/) -->\r\n<svg height=\"252.317344pt\" version=\"1.1\" viewBox=\"0 0 277.436875 252.317344\" width=\"277.436875pt\" xmlns=\"http://www.w3.org/2000/svg\" xmlns:xlink=\"http://www.w3.org/1999/xlink\">\r\n <defs>\r\n  <style type=\"text/css\">\r\n*{stroke-linecap:butt;stroke-linejoin:round;}\r\n  </style>\r\n </defs>\r\n <g id=\"figure_1\">\r\n  <g id=\"patch_1\">\r\n   <path d=\"M 0 252.317344 \r\nL 277.436875 252.317344 \r\nL 277.436875 0 \r\nL 0 0 \r\nz\r\n\" style=\"fill:none;\"/>\r\n  </g>\r\n  <g id=\"axes_1\">\r\n   <g id=\"patch_2\">\r\n    <path d=\"M 44.845313 228.439219 \r\nL 262.285313 228.439219 \r\nL 262.285313 10.999219 \r\nL 44.845313 10.999219 \r\nz\r\n\" style=\"fill:#ffffff;\"/>\r\n   </g>\r\n   <g id=\"matplotlib.axis_1\">\r\n    <g id=\"xtick_1\">\r\n     <g id=\"line2d_1\">\r\n      <defs>\r\n       <path d=\"M 0 0 \r\nL 0 3.5 \r\n\" id=\"m19659872ca\" style=\"stroke:#000000;stroke-width:0.8;\"/>\r\n      </defs>\r\n      <g>\r\n       <use style=\"stroke:#000000;stroke-width:0.8;\" x=\"44.845312\" xlink:href=\"#m19659872ca\" y=\"228.439219\"/>\r\n      </g>\r\n     </g>\r\n     <g id=\"text_1\">\r\n      <!-- −1.0 -->\r\n      <defs>\r\n       <path d=\"M 10.59375 35.5 \r\nL 73.1875 35.5 \r\nL 73.1875 27.203125 \r\nL 10.59375 27.203125 \r\nz\r\n\" id=\"DejaVuSans-8722\"/>\r\n       <path d=\"M 12.40625 8.296875 \r\nL 28.515625 8.296875 \r\nL 28.515625 63.921875 \r\nL 10.984375 60.40625 \r\nL 10.984375 69.390625 \r\nL 28.421875 72.90625 \r\nL 38.28125 72.90625 \r\nL 38.28125 8.296875 \r\nL 54.390625 8.296875 \r\nL 54.390625 0 \r\nL 12.40625 0 \r\nz\r\n\" id=\"DejaVuSans-49\"/>\r\n       <path d=\"M 10.6875 12.40625 \r\nL 21 12.40625 \r\nL 21 0 \r\nL 10.6875 0 \r\nz\r\n\" id=\"DejaVuSans-46\"/>\r\n       <path d=\"M 31.78125 66.40625 \r\nQ 24.171875 66.40625 20.328125 58.90625 \r\nQ 16.5 51.421875 16.5 36.375 \r\nQ 16.5 21.390625 20.328125 13.890625 \r\nQ 24.171875 6.390625 31.78125 6.390625 \r\nQ 39.453125 6.390625 43.28125 13.890625 \r\nQ 47.125 21.390625 47.125 36.375 \r\nQ 47.125 51.421875 43.28125 58.90625 \r\nQ 39.453125 66.40625 31.78125 66.40625 \r\nz\r\nM 31.78125 74.21875 \r\nQ 44.046875 74.21875 50.515625 64.515625 \r\nQ 56.984375 54.828125 56.984375 36.375 \r\nQ 56.984375 17.96875 50.515625 8.265625 \r\nQ 44.046875 -1.421875 31.78125 -1.421875 \r\nQ 19.53125 -1.421875 13.0625 8.265625 \r\nQ 6.59375 17.96875 6.59375 36.375 \r\nQ 6.59375 54.828125 13.0625 64.515625 \r\nQ 19.53125 74.21875 31.78125 74.21875 \r\nz\r\n\" id=\"DejaVuSans-48\"/>\r\n      </defs>\r\n      <g transform=\"translate(32.703906 243.037656)scale(0.1 -0.1)\">\r\n       <use xlink:href=\"#DejaVuSans-8722\"/>\r\n       <use x=\"83.789062\" xlink:href=\"#DejaVuSans-49\"/>\r\n       <use x=\"147.412109\" xlink:href=\"#DejaVuSans-46\"/>\r\n       <use x=\"179.199219\" xlink:href=\"#DejaVuSans-48\"/>\r\n      </g>\r\n     </g>\r\n    </g>\r\n    <g id=\"xtick_2\">\r\n     <g id=\"line2d_2\">\r\n      <g>\r\n       <use style=\"stroke:#000000;stroke-width:0.8;\" x=\"99.205312\" xlink:href=\"#m19659872ca\" y=\"228.439219\"/>\r\n      </g>\r\n     </g>\r\n     <g id=\"text_2\">\r\n      <!-- −0.5 -->\r\n      <defs>\r\n       <path d=\"M 10.796875 72.90625 \r\nL 49.515625 72.90625 \r\nL 49.515625 64.59375 \r\nL 19.828125 64.59375 \r\nL 19.828125 46.734375 \r\nQ 21.96875 47.46875 24.109375 47.828125 \r\nQ 26.265625 48.1875 28.421875 48.1875 \r\nQ 40.625 48.1875 47.75 41.5 \r\nQ 54.890625 34.8125 54.890625 23.390625 \r\nQ 54.890625 11.625 47.5625 5.09375 \r\nQ 40.234375 -1.421875 26.90625 -1.421875 \r\nQ 22.3125 -1.421875 17.546875 -0.640625 \r\nQ 12.796875 0.140625 7.71875 1.703125 \r\nL 7.71875 11.625 \r\nQ 12.109375 9.234375 16.796875 8.0625 \r\nQ 21.484375 6.890625 26.703125 6.890625 \r\nQ 35.15625 6.890625 40.078125 11.328125 \r\nQ 45.015625 15.765625 45.015625 23.390625 \r\nQ 45.015625 31 40.078125 35.4375 \r\nQ 35.15625 39.890625 26.703125 39.890625 \r\nQ 22.75 39.890625 18.8125 39.015625 \r\nQ 14.890625 38.140625 10.796875 36.28125 \r\nz\r\n\" id=\"DejaVuSans-53\"/>\r\n      </defs>\r\n      <g transform=\"translate(87.063906 243.037656)scale(0.1 -0.1)\">\r\n       <use xlink:href=\"#DejaVuSans-8722\"/>\r\n       <use x=\"83.789062\" xlink:href=\"#DejaVuSans-48\"/>\r\n       <use x=\"147.412109\" xlink:href=\"#DejaVuSans-46\"/>\r\n       <use x=\"179.199219\" xlink:href=\"#DejaVuSans-53\"/>\r\n      </g>\r\n     </g>\r\n    </g>\r\n    <g id=\"xtick_3\">\r\n     <g id=\"line2d_3\">\r\n      <g>\r\n       <use style=\"stroke:#000000;stroke-width:0.8;\" x=\"153.565313\" xlink:href=\"#m19659872ca\" y=\"228.439219\"/>\r\n      </g>\r\n     </g>\r\n     <g id=\"text_3\">\r\n      <!-- 0.0 -->\r\n      <g transform=\"translate(145.61375 243.037656)scale(0.1 -0.1)\">\r\n       <use xlink:href=\"#DejaVuSans-48\"/>\r\n       <use x=\"63.623047\" xlink:href=\"#DejaVuSans-46\"/>\r\n       <use x=\"95.410156\" xlink:href=\"#DejaVuSans-48\"/>\r\n      </g>\r\n     </g>\r\n    </g>\r\n    <g id=\"xtick_4\">\r\n     <g id=\"line2d_4\">\r\n      <g>\r\n       <use style=\"stroke:#000000;stroke-width:0.8;\" x=\"207.925313\" xlink:href=\"#m19659872ca\" y=\"228.439219\"/>\r\n      </g>\r\n     </g>\r\n     <g id=\"text_4\">\r\n      <!-- 0.5 -->\r\n      <g transform=\"translate(199.97375 243.037656)scale(0.1 -0.1)\">\r\n       <use xlink:href=\"#DejaVuSans-48\"/>\r\n       <use x=\"63.623047\" xlink:href=\"#DejaVuSans-46\"/>\r\n       <use x=\"95.410156\" xlink:href=\"#DejaVuSans-53\"/>\r\n      </g>\r\n     </g>\r\n    </g>\r\n    <g id=\"xtick_5\">\r\n     <g id=\"line2d_5\">\r\n      <g>\r\n       <use style=\"stroke:#000000;stroke-width:0.8;\" x=\"262.285313\" xlink:href=\"#m19659872ca\" y=\"228.439219\"/>\r\n      </g>\r\n     </g>\r\n     <g id=\"text_5\">\r\n      <!-- 1.0 -->\r\n      <g transform=\"translate(254.33375 243.037656)scale(0.1 -0.1)\">\r\n       <use xlink:href=\"#DejaVuSans-49\"/>\r\n       <use x=\"63.623047\" xlink:href=\"#DejaVuSans-46\"/>\r\n       <use x=\"95.410156\" xlink:href=\"#DejaVuSans-48\"/>\r\n      </g>\r\n     </g>\r\n    </g>\r\n   </g>\r\n   <g id=\"matplotlib.axis_2\">\r\n    <g id=\"ytick_1\">\r\n     <g id=\"line2d_6\">\r\n      <defs>\r\n       <path d=\"M 0 0 \r\nL -3.5 0 \r\n\" id=\"me1b4c222f0\" style=\"stroke:#000000;stroke-width:0.8;\"/>\r\n      </defs>\r\n      <g>\r\n       <use style=\"stroke:#000000;stroke-width:0.8;\" x=\"44.845313\" xlink:href=\"#me1b4c222f0\" y=\"228.439219\"/>\r\n      </g>\r\n     </g>\r\n     <g id=\"text_6\">\r\n      <!-- −1.00 -->\r\n      <g transform=\"translate(7.2 232.238437)scale(0.1 -0.1)\">\r\n       <use xlink:href=\"#DejaVuSans-8722\"/>\r\n       <use x=\"83.789062\" xlink:href=\"#DejaVuSans-49\"/>\r\n       <use x=\"147.412109\" xlink:href=\"#DejaVuSans-46\"/>\r\n       <use x=\"179.199219\" xlink:href=\"#DejaVuSans-48\"/>\r\n       <use x=\"242.822266\" xlink:href=\"#DejaVuSans-48\"/>\r\n      </g>\r\n     </g>\r\n    </g>\r\n    <g id=\"ytick_2\">\r\n     <g id=\"line2d_7\">\r\n      <g>\r\n       <use style=\"stroke:#000000;stroke-width:0.8;\" x=\"44.845313\" xlink:href=\"#me1b4c222f0\" y=\"201.259219\"/>\r\n      </g>\r\n     </g>\r\n     <g id=\"text_7\">\r\n      <!-- −0.75 -->\r\n      <defs>\r\n       <path d=\"M 8.203125 72.90625 \r\nL 55.078125 72.90625 \r\nL 55.078125 68.703125 \r\nL 28.609375 0 \r\nL 18.3125 0 \r\nL 43.21875 64.59375 \r\nL 8.203125 64.59375 \r\nz\r\n\" id=\"DejaVuSans-55\"/>\r\n      </defs>\r\n      <g transform=\"translate(7.2 205.058437)scale(0.1 -0.1)\">\r\n       <use xlink:href=\"#DejaVuSans-8722\"/>\r\n       <use x=\"83.789062\" xlink:href=\"#DejaVuSans-48\"/>\r\n       <use x=\"147.412109\" xlink:href=\"#DejaVuSans-46\"/>\r\n       <use x=\"179.199219\" xlink:href=\"#DejaVuSans-55\"/>\r\n       <use x=\"242.822266\" xlink:href=\"#DejaVuSans-53\"/>\r\n      </g>\r\n     </g>\r\n    </g>\r\n    <g id=\"ytick_3\">\r\n     <g id=\"line2d_8\">\r\n      <g>\r\n       <use style=\"stroke:#000000;stroke-width:0.8;\" x=\"44.845313\" xlink:href=\"#me1b4c222f0\" y=\"174.079219\"/>\r\n      </g>\r\n     </g>\r\n     <g id=\"text_8\">\r\n      <!-- −0.50 -->\r\n      <g transform=\"translate(7.2 177.878437)scale(0.1 -0.1)\">\r\n       <use xlink:href=\"#DejaVuSans-8722\"/>\r\n       <use x=\"83.789062\" xlink:href=\"#DejaVuSans-48\"/>\r\n       <use x=\"147.412109\" xlink:href=\"#DejaVuSans-46\"/>\r\n       <use x=\"179.199219\" xlink:href=\"#DejaVuSans-53\"/>\r\n       <use x=\"242.822266\" xlink:href=\"#DejaVuSans-48\"/>\r\n      </g>\r\n     </g>\r\n    </g>\r\n    <g id=\"ytick_4\">\r\n     <g id=\"line2d_9\">\r\n      <g>\r\n       <use style=\"stroke:#000000;stroke-width:0.8;\" x=\"44.845313\" xlink:href=\"#me1b4c222f0\" y=\"146.899219\"/>\r\n      </g>\r\n     </g>\r\n     <g id=\"text_9\">\r\n      <!-- −0.25 -->\r\n      <defs>\r\n       <path d=\"M 19.1875 8.296875 \r\nL 53.609375 8.296875 \r\nL 53.609375 0 \r\nL 7.328125 0 \r\nL 7.328125 8.296875 \r\nQ 12.9375 14.109375 22.625 23.890625 \r\nQ 32.328125 33.6875 34.8125 36.53125 \r\nQ 39.546875 41.84375 41.421875 45.53125 \r\nQ 43.3125 49.21875 43.3125 52.78125 \r\nQ 43.3125 58.59375 39.234375 62.25 \r\nQ 35.15625 65.921875 28.609375 65.921875 \r\nQ 23.96875 65.921875 18.8125 64.3125 \r\nQ 13.671875 62.703125 7.8125 59.421875 \r\nL 7.8125 69.390625 \r\nQ 13.765625 71.78125 18.9375 73 \r\nQ 24.125 74.21875 28.421875 74.21875 \r\nQ 39.75 74.21875 46.484375 68.546875 \r\nQ 53.21875 62.890625 53.21875 53.421875 \r\nQ 53.21875 48.921875 51.53125 44.890625 \r\nQ 49.859375 40.875 45.40625 35.40625 \r\nQ 44.1875 33.984375 37.640625 27.21875 \r\nQ 31.109375 20.453125 19.1875 8.296875 \r\nz\r\n\" id=\"DejaVuSans-50\"/>\r\n      </defs>\r\n      <g transform=\"translate(7.2 150.698437)scale(0.1 -0.1)\">\r\n       <use xlink:href=\"#DejaVuSans-8722\"/>\r\n       <use x=\"83.789062\" xlink:href=\"#DejaVuSans-48\"/>\r\n       <use x=\"147.412109\" xlink:href=\"#DejaVuSans-46\"/>\r\n       <use x=\"179.199219\" xlink:href=\"#DejaVuSans-50\"/>\r\n       <use x=\"242.822266\" xlink:href=\"#DejaVuSans-53\"/>\r\n      </g>\r\n     </g>\r\n    </g>\r\n    <g id=\"ytick_5\">\r\n     <g id=\"line2d_10\">\r\n      <g>\r\n       <use style=\"stroke:#000000;stroke-width:0.8;\" x=\"44.845313\" xlink:href=\"#me1b4c222f0\" y=\"119.719219\"/>\r\n      </g>\r\n     </g>\r\n     <g id=\"text_10\">\r\n      <!-- 0.00 -->\r\n      <g transform=\"translate(15.579688 123.518437)scale(0.1 -0.1)\">\r\n       <use xlink:href=\"#DejaVuSans-48\"/>\r\n       <use x=\"63.623047\" xlink:href=\"#DejaVuSans-46\"/>\r\n       <use x=\"95.410156\" xlink:href=\"#DejaVuSans-48\"/>\r\n       <use x=\"159.033203\" xlink:href=\"#DejaVuSans-48\"/>\r\n      </g>\r\n     </g>\r\n    </g>\r\n    <g id=\"ytick_6\">\r\n     <g id=\"line2d_11\">\r\n      <g>\r\n       <use style=\"stroke:#000000;stroke-width:0.8;\" x=\"44.845313\" xlink:href=\"#me1b4c222f0\" y=\"92.539219\"/>\r\n      </g>\r\n     </g>\r\n     <g id=\"text_11\">\r\n      <!-- 0.25 -->\r\n      <g transform=\"translate(15.579688 96.338437)scale(0.1 -0.1)\">\r\n       <use xlink:href=\"#DejaVuSans-48\"/>\r\n       <use x=\"63.623047\" xlink:href=\"#DejaVuSans-46\"/>\r\n       <use x=\"95.410156\" xlink:href=\"#DejaVuSans-50\"/>\r\n       <use x=\"159.033203\" xlink:href=\"#DejaVuSans-53\"/>\r\n      </g>\r\n     </g>\r\n    </g>\r\n    <g id=\"ytick_7\">\r\n     <g id=\"line2d_12\">\r\n      <g>\r\n       <use style=\"stroke:#000000;stroke-width:0.8;\" x=\"44.845313\" xlink:href=\"#me1b4c222f0\" y=\"65.359219\"/>\r\n      </g>\r\n     </g>\r\n     <g id=\"text_12\">\r\n      <!-- 0.50 -->\r\n      <g transform=\"translate(15.579688 69.158437)scale(0.1 -0.1)\">\r\n       <use xlink:href=\"#DejaVuSans-48\"/>\r\n       <use x=\"63.623047\" xlink:href=\"#DejaVuSans-46\"/>\r\n       <use x=\"95.410156\" xlink:href=\"#DejaVuSans-53\"/>\r\n       <use x=\"159.033203\" xlink:href=\"#DejaVuSans-48\"/>\r\n      </g>\r\n     </g>\r\n    </g>\r\n    <g id=\"ytick_8\">\r\n     <g id=\"line2d_13\">\r\n      <g>\r\n       <use style=\"stroke:#000000;stroke-width:0.8;\" x=\"44.845313\" xlink:href=\"#me1b4c222f0\" y=\"38.179219\"/>\r\n      </g>\r\n     </g>\r\n     <g id=\"text_13\">\r\n      <!-- 0.75 -->\r\n      <g transform=\"translate(15.579688 41.978437)scale(0.1 -0.1)\">\r\n       <use xlink:href=\"#DejaVuSans-48\"/>\r\n       <use x=\"63.623047\" xlink:href=\"#DejaVuSans-46\"/>\r\n       <use x=\"95.410156\" xlink:href=\"#DejaVuSans-55\"/>\r\n       <use x=\"159.033203\" xlink:href=\"#DejaVuSans-53\"/>\r\n      </g>\r\n     </g>\r\n    </g>\r\n    <g id=\"ytick_9\">\r\n     <g id=\"line2d_14\">\r\n      <g>\r\n       <use style=\"stroke:#000000;stroke-width:0.8;\" x=\"44.845313\" xlink:href=\"#me1b4c222f0\" y=\"10.999219\"/>\r\n      </g>\r\n     </g>\r\n     <g id=\"text_14\">\r\n      <!-- 1.00 -->\r\n      <g transform=\"translate(15.579688 14.798437)scale(0.1 -0.1)\">\r\n       <use xlink:href=\"#DejaVuSans-49\"/>\r\n       <use x=\"63.623047\" xlink:href=\"#DejaVuSans-46\"/>\r\n       <use x=\"95.410156\" xlink:href=\"#DejaVuSans-48\"/>\r\n       <use x=\"159.033203\" xlink:href=\"#DejaVuSans-48\"/>\r\n      </g>\r\n     </g>\r\n    </g>\r\n   </g>\r\n   <g id=\"LineCollection_1\">\r\n    <path clip-path=\"url(#p02e6b48254)\" d=\"M 132.699858 226.416547 \r\nL 128.307131 225.459257 \r\nL 122.992715 224.046491 \r\nL 119.521676 222.965834 \r\nL 115.128949 221.414436 \r\nL 110.736222 219.647663 \r\nL 105.956635 217.457401 \r\nL 101.687661 215.261037 \r\nL 97.55804 212.901253 \r\nL 93.165312 210.111636 \r\nL 88.772585 207.01781 \r\nL 85.23892 204.279219 \r\nL 82.183494 201.719268 \r\nL 77.790767 197.682284 \r\nL 73.39804 193.155968 \r\nL 69.706126 188.904673 \r\nL 66.808949 185.234916 \r\nL 64.612585 182.227336 \r\nL 61.742932 177.922855 \r\nL 59.102522 173.530128 \r\nL 56.731883 169.137401 \r\nL 54.61303 164.744673 \r\nL 52.729542 160.351946 \r\nL 51.066396 155.959219 \r\nL 49.23804 150.291816 \r\nL 48.374366 147.173764 \r\nL 47.041676 141.435764 \r\nL 46.46457 138.38831 \r\nL 45.792214 133.995582 \r\nL 45.299153 129.602855 \r\nL 44.985387 125.210128 \r\nL 44.850915 120.817401 \r\nL 44.895739 116.424673 \r\nL 45.119858 112.031946 \r\nL 45.523272 107.639219 \r\nL 46.10598 103.246491 \r\nL 47.041676 98.002673 \r\nL 47.825275 94.461037 \r\nL 49.23804 89.146621 \r\nL 50.318697 85.675582 \r\nL 51.870095 81.282855 \r\nL 53.636868 76.890128 \r\nL 55.827131 72.110541 \r\nL 58.023494 67.841567 \r\nL 60.383278 63.711946 \r\nL 63.172896 59.319219 \r\nL 66.266722 54.926491 \r\nL 69.005312 51.392826 \r\nL 71.565263 48.337401 \r\nL 75.602248 43.944673 \r\nL 80.128563 39.551946 \r\nL 84.379858 35.860032 \r\nL 88.049616 32.962855 \r\nL 91.057196 30.766491 \r\nL 95.361676 27.896838 \r\nL 99.754403 25.256428 \r\nL 104.147131 22.885789 \r\nL 108.539858 20.766936 \r\nL 112.932585 18.883448 \r\nL 117.325313 17.220302 \r\nL 122.992715 15.391946 \r\nL 126.110767 14.528272 \r\nL 131.848767 13.195582 \r\nL 134.896222 12.618477 \r\nL 139.288949 11.94612 \r\nL 143.681676 11.453059 \r\nL 148.074403 11.139293 \r\nL 152.467131 11.004822 \r\nL 156.859858 11.049645 \r\nL 161.252585 11.273764 \r\nL 165.645313 11.677178 \r\nL 170.03804 12.259887 \r\nL 175.281858 13.195582 \r\nL 178.823494 13.979181 \r\nL 184.13791 15.391946 \r\nL 187.608949 16.472604 \r\nL 192.001676 18.024001 \r\nL 196.394403 19.790774 \r\nL 201.17399 21.981037 \r\nL 205.442964 24.177401 \r\nL 209.572585 26.537184 \r\nL 213.965313 29.326802 \r\nL 218.35804 32.420628 \r\nL 221.891705 35.159219 \r\nL 224.947131 37.71917 \r\nL 229.339858 41.756154 \r\nL 233.732585 46.282469 \r\nL 237.424499 50.533764 \r\nL 240.321676 54.203522 \r\nL 242.51804 57.211102 \r\nL 245.387693 61.515582 \r\nL 248.028103 65.90831 \r\nL 250.398742 70.301037 \r\nL 252.517595 74.693764 \r\nL 254.401083 79.086491 \r\nL 256.064229 83.479219 \r\nL 257.892585 89.146621 \r\nL 258.756259 92.264673 \r\nL 260.088949 98.002673 \r\nL 260.666055 101.050128 \r\nL 261.338411 105.442855 \r\nL 261.831472 109.835582 \r\nL 262.145238 114.22831 \r\nL 262.27971 118.621037 \r\nL 262.234886 123.013764 \r\nL 262.010767 127.406491 \r\nL 261.607353 131.799219 \r\nL 261.024645 136.191946 \r\nL 260.088949 141.435764 \r\nL 259.30535 144.977401 \r\nL 257.892585 150.291816 \r\nL 256.811928 153.762855 \r\nL 255.26053 158.155582 \r\nL 253.493757 162.54831 \r\nL 251.303494 167.327896 \r\nL 249.107131 171.59687 \r\nL 246.747347 175.726491 \r\nL 243.957729 180.119219 \r\nL 240.863903 184.511946 \r\nL 238.125313 188.045612 \r\nL 235.565362 191.101037 \r\nL 231.528377 195.493764 \r\nL 227.002062 199.886491 \r\nL 222.750767 203.578405 \r\nL 219.081009 206.475582 \r\nL 216.073429 208.671946 \r\nL 211.768949 211.5416 \r\nL 207.376222 214.182009 \r\nL 202.983494 216.552649 \r\nL 198.590767 218.671502 \r\nL 194.19804 220.55499 \r\nL 189.805313 222.218136 \r\nL 184.13791 224.046491 \r\nL 181.019858 224.910166 \r\nL 175.281858 226.242855 \r\nL 172.234403 226.819961 \r\nL 167.841676 227.492317 \r\nL 163.448949 227.985378 \r\nL 159.056222 228.299145 \r\nL 154.663494 228.433616 \r\nL 150.270767 228.388792 \r\nL 145.87804 228.164673 \r\nL 141.485313 227.76126 \r\nL 137.092585 227.178551 \r\nL 132.699858 226.416547 \r\nL 132.699858 226.416547 \r\n\" style=\"fill:none;stroke:#440154;stroke-width:1.5;\"/>\r\n   </g>\r\n   <g id=\"line2d_15\">\r\n    <defs>\r\n     <path d=\"M 0 1.5 \r\nC 0.397805 1.5 0.77937 1.341951 1.06066 1.06066 \r\nC 1.341951 0.77937 1.5 0.397805 1.5 0 \r\nC 1.5 -0.397805 1.341951 -0.77937 1.06066 -1.06066 \r\nC 0.77937 -1.341951 0.397805 -1.5 0 -1.5 \r\nC -0.397805 -1.5 -0.77937 -1.341951 -1.06066 -1.06066 \r\nC -1.341951 -0.77937 -1.5 -0.397805 -1.5 0 \r\nC -1.5 0.397805 -1.341951 0.77937 -1.06066 1.06066 \r\nC -0.77937 1.341951 -0.397805 1.5 0 1.5 \r\nz\r\n\" id=\"m56779db967\" style=\"stroke:#ff0000;\"/>\r\n    </defs>\r\n    <g clip-path=\"url(#p02e6b48254)\">\r\n     <use style=\"fill:#ff0000;stroke:#ff0000;\" x=\"153.486467\" xlink:href=\"#m56779db967\" y=\"41.716185\"/>\r\n    </g>\r\n   </g>\r\n   <g id=\"line2d_16\">\r\n    <defs>\r\n     <path d=\"M 0 1.5 \r\nC 0.397805 1.5 0.77937 1.341951 1.06066 1.06066 \r\nC 1.341951 0.77937 1.5 0.397805 1.5 0 \r\nC 1.5 -0.397805 1.341951 -0.77937 1.06066 -1.06066 \r\nC 0.77937 -1.341951 0.397805 -1.5 0 -1.5 \r\nC -0.397805 -1.5 -0.77937 -1.341951 -1.06066 -1.06066 \r\nC -1.341951 -0.77937 -1.5 -0.397805 -1.5 0 \r\nC -1.5 0.397805 -1.341951 0.77937 -1.06066 1.06066 \r\nC -0.77937 1.341951 -0.397805 1.5 0 1.5 \r\nz\r\n\" id=\"mca6d42c61c\" style=\"stroke:#008000;\"/>\r\n    </defs>\r\n    <g clip-path=\"url(#p02e6b48254)\">\r\n     <use style=\"fill:#008000;stroke:#008000;\" x=\"54.892962\" xlink:href=\"#mca6d42c61c\" y=\"18.954472\"/>\r\n    </g>\r\n   </g>\r\n   <g id=\"line2d_17\">\r\n    <g clip-path=\"url(#p02e6b48254)\">\r\n     <use style=\"fill:#ff0000;stroke:#ff0000;\" x=\"168.137297\" xlink:href=\"#m56779db967\" y=\"45.730072\"/>\r\n    </g>\r\n   </g>\r\n   <g id=\"line2d_18\">\r\n    <g clip-path=\"url(#p02e6b48254)\">\r\n     <use style=\"fill:#008000;stroke:#008000;\" x=\"253.587861\" xlink:href=\"#mca6d42c61c\" y=\"15.549604\"/>\r\n    </g>\r\n   </g>\r\n   <g id=\"line2d_19\">\r\n    <g clip-path=\"url(#p02e6b48254)\">\r\n     <use style=\"fill:#ff0000;stroke:#ff0000;\" x=\"157.758035\" xlink:href=\"#m56779db967\" y=\"203.153157\"/>\r\n    </g>\r\n   </g>\r\n   <g id=\"line2d_20\">\r\n    <g clip-path=\"url(#p02e6b48254)\">\r\n     <use style=\"fill:#008000;stroke:#008000;\" x=\"258.573727\" xlink:href=\"#mca6d42c61c\" y=\"196.6361\"/>\r\n    </g>\r\n   </g>\r\n   <g id=\"line2d_21\">\r\n    <g clip-path=\"url(#p02e6b48254)\">\r\n     <use style=\"fill:#ff0000;stroke:#ff0000;\" x=\"187.433232\" xlink:href=\"#m56779db967\" y=\"126.727224\"/>\r\n    </g>\r\n   </g>\r\n   <g id=\"line2d_22\">\r\n    <g clip-path=\"url(#p02e6b48254)\">\r\n     <use style=\"fill:#ff0000;stroke:#ff0000;\" x=\"129.780497\" xlink:href=\"#m56779db967\" y=\"159.289237\"/>\r\n    </g>\r\n   </g>\r\n   <g id=\"line2d_23\">\r\n    <g clip-path=\"url(#p02e6b48254)\">\r\n     <use style=\"fill:#ff0000;stroke:#ff0000;\" x=\"168.318164\" xlink:href=\"#m56779db967\" y=\"61.462496\"/>\r\n    </g>\r\n   </g>\r\n   <g id=\"line2d_24\">\r\n    <g clip-path=\"url(#p02e6b48254)\">\r\n     <use style=\"fill:#008000;stroke:#008000;\" x=\"50.905729\" xlink:href=\"#mca6d42c61c\" y=\"180.57515\"/>\r\n    </g>\r\n   </g>\r\n   <g id=\"line2d_25\">\r\n    <g clip-path=\"url(#p02e6b48254)\">\r\n     <use style=\"fill:#008000;stroke:#008000;\" x=\"76.622717\" xlink:href=\"#mca6d42c61c\" y=\"20.536813\"/>\r\n    </g>\r\n   </g>\r\n   <g id=\"line2d_26\">\r\n    <g clip-path=\"url(#p02e6b48254)\">\r\n     <use style=\"fill:#ff0000;stroke:#ff0000;\" x=\"102.80763\" xlink:href=\"#m56779db967\" y=\"63.375466\"/>\r\n    </g>\r\n   </g>\r\n   <g id=\"line2d_27\">\r\n    <g clip-path=\"url(#p02e6b48254)\">\r\n     <use style=\"fill:#008000;stroke:#008000;\" x=\"95.936561\" xlink:href=\"#mca6d42c61c\" y=\"218.867468\"/>\r\n    </g>\r\n   </g>\r\n   <g id=\"line2d_28\">\r\n    <g clip-path=\"url(#p02e6b48254)\">\r\n     <use style=\"fill:#ff0000;stroke:#ff0000;\" x=\"214.294997\" xlink:href=\"#m56779db967\" y=\"32.672909\"/>\r\n    </g>\r\n   </g>\r\n   <g id=\"line2d_29\">\r\n    <g clip-path=\"url(#p02e6b48254)\">\r\n     <use style=\"fill:#ff0000;stroke:#ff0000;\" x=\"177.106409\" xlink:href=\"#m56779db967\" y=\"34.278619\"/>\r\n    </g>\r\n   </g>\r\n   <g id=\"line2d_30\">\r\n    <g clip-path=\"url(#p02e6b48254)\">\r\n     <use style=\"fill:#ff0000;stroke:#ff0000;\" x=\"148.623628\" xlink:href=\"#m56779db967\" y=\"161.327634\"/>\r\n    </g>\r\n   </g>\r\n   <g id=\"line2d_31\">\r\n    <g clip-path=\"url(#p02e6b48254)\">\r\n     <use style=\"fill:#ff0000;stroke:#ff0000;\" x=\"160.51106\" xlink:href=\"#m56779db967\" y=\"141.02968\"/>\r\n    </g>\r\n   </g>\r\n   <g id=\"line2d_32\">\r\n    <g clip-path=\"url(#p02e6b48254)\">\r\n     <use style=\"fill:#ff0000;stroke:#ff0000;\" x=\"130.432613\" xlink:href=\"#m56779db967\" y=\"190.08621\"/>\r\n    </g>\r\n   </g>\r\n   <g id=\"line2d_33\">\r\n    <g clip-path=\"url(#p02e6b48254)\">\r\n     <use style=\"fill:#ff0000;stroke:#ff0000;\" x=\"230.456911\" xlink:href=\"#m56779db967\" y=\"160.341578\"/>\r\n    </g>\r\n   </g>\r\n   <g id=\"line2d_34\">\r\n    <g clip-path=\"url(#p02e6b48254)\">\r\n     <use style=\"fill:#ff0000;stroke:#ff0000;\" x=\"117.201605\" xlink:href=\"#m56779db967\" y=\"112.540437\"/>\r\n    </g>\r\n   </g>\r\n   <g id=\"line2d_35\">\r\n    <g clip-path=\"url(#p02e6b48254)\">\r\n     <use style=\"fill:#ff0000;stroke:#ff0000;\" x=\"146.785876\" xlink:href=\"#m56779db967\" y=\"198.418653\"/>\r\n    </g>\r\n   </g>\r\n   <g id=\"line2d_36\">\r\n    <g clip-path=\"url(#p02e6b48254)\">\r\n     <use style=\"fill:#ff0000;stroke:#ff0000;\" x=\"206.492783\" xlink:href=\"#m56779db967\" y=\"28.214905\"/>\r\n    </g>\r\n   </g>\r\n   <g id=\"line2d_37\">\r\n    <g clip-path=\"url(#p02e6b48254)\">\r\n     <use style=\"fill:#ff0000;stroke:#ff0000;\" x=\"160.531844\" xlink:href=\"#m56779db967\" y=\"43.966367\"/>\r\n    </g>\r\n   </g>\r\n   <g id=\"line2d_38\">\r\n    <g clip-path=\"url(#p02e6b48254)\">\r\n     <use style=\"fill:#ff0000;stroke:#ff0000;\" x=\"100.255546\" xlink:href=\"#m56779db967\" y=\"65.050037\"/>\r\n    </g>\r\n   </g>\r\n   <g id=\"line2d_39\">\r\n    <g clip-path=\"url(#p02e6b48254)\">\r\n     <use style=\"fill:#ff0000;stroke:#ff0000;\" x=\"175.762602\" xlink:href=\"#m56779db967\" y=\"67.290391\"/>\r\n    </g>\r\n   </g>\r\n   <g id=\"line2d_40\">\r\n    <g clip-path=\"url(#p02e6b48254)\">\r\n     <use style=\"fill:#ff0000;stroke:#ff0000;\" x=\"134.762484\" xlink:href=\"#m56779db967\" y=\"62.224501\"/>\r\n    </g>\r\n   </g>\r\n   <g id=\"line2d_41\">\r\n    <g clip-path=\"url(#p02e6b48254)\">\r\n     <use style=\"fill:#ff0000;stroke:#ff0000;\" x=\"110.047932\" xlink:href=\"#m56779db967\" y=\"61.145311\"/>\r\n    </g>\r\n   </g>\r\n   <g id=\"line2d_42\">\r\n    <g clip-path=\"url(#p02e6b48254)\">\r\n     <use style=\"fill:#008000;stroke:#008000;\" x=\"73.708765\" xlink:href=\"#mca6d42c61c\" y=\"215.324333\"/>\r\n    </g>\r\n   </g>\r\n   <g id=\"line2d_43\">\r\n    <g clip-path=\"url(#p02e6b48254)\">\r\n     <use style=\"fill:#ff0000;stroke:#ff0000;\" x=\"212.447721\" xlink:href=\"#m56779db967\" y=\"95.836954\"/>\r\n    </g>\r\n   </g>\r\n   <g id=\"line2d_44\">\r\n    <g clip-path=\"url(#p02e6b48254)\">\r\n     <use style=\"fill:#ff0000;stroke:#ff0000;\" x=\"181.00681\" xlink:href=\"#m56779db967\" y=\"77.146709\"/>\r\n    </g>\r\n   </g>\r\n   <g id=\"line2d_45\">\r\n    <g clip-path=\"url(#p02e6b48254)\">\r\n     <use style=\"fill:#ff0000;stroke:#ff0000;\" x=\"70.407175\" xlink:href=\"#m56779db967\" y=\"179.76347\"/>\r\n    </g>\r\n   </g>\r\n   <g id=\"line2d_46\">\r\n    <g clip-path=\"url(#p02e6b48254)\">\r\n     <use style=\"fill:#ff0000;stroke:#ff0000;\" x=\"117.87525\" xlink:href=\"#m56779db967\" y=\"75.360945\"/>\r\n    </g>\r\n   </g>\r\n   <g id=\"line2d_47\">\r\n    <g clip-path=\"url(#p02e6b48254)\">\r\n     <use style=\"fill:#ff0000;stroke:#ff0000;\" x=\"90.68704\" xlink:href=\"#m56779db967\" y=\"38.822829\"/>\r\n    </g>\r\n   </g>\r\n   <g id=\"line2d_48\">\r\n    <g clip-path=\"url(#p02e6b48254)\">\r\n     <use style=\"fill:#ff0000;stroke:#ff0000;\" x=\"109.667835\" xlink:href=\"#m56779db967\" y=\"169.01353\"/>\r\n    </g>\r\n   </g>\r\n   <g id=\"line2d_49\">\r\n    <g clip-path=\"url(#p02e6b48254)\">\r\n     <use style=\"fill:#ff0000;stroke:#ff0000;\" x=\"231.044878\" xlink:href=\"#m56779db967\" y=\"139.216876\"/>\r\n    </g>\r\n   </g>\r\n   <g id=\"line2d_50\">\r\n    <g clip-path=\"url(#p02e6b48254)\">\r\n     <use style=\"fill:#ff0000;stroke:#ff0000;\" x=\"232.297083\" xlink:href=\"#m56779db967\" y=\"168.234443\"/>\r\n    </g>\r\n   </g>\r\n   <g id=\"line2d_51\">\r\n    <g clip-path=\"url(#p02e6b48254)\">\r\n     <use style=\"fill:#ff0000;stroke:#ff0000;\" x=\"192.499412\" xlink:href=\"#m56779db967\" y=\"94.936962\"/>\r\n    </g>\r\n   </g>\r\n   <g id=\"line2d_52\">\r\n    <g clip-path=\"url(#p02e6b48254)\">\r\n     <use style=\"fill:#ff0000;stroke:#ff0000;\" x=\"146.655339\" xlink:href=\"#m56779db967\" y=\"186.213069\"/>\r\n    </g>\r\n   </g>\r\n   <g id=\"line2d_53\">\r\n    <g clip-path=\"url(#p02e6b48254)\">\r\n     <use style=\"fill:#ff0000;stroke:#ff0000;\" x=\"150.138913\" xlink:href=\"#m56779db967\" y=\"197.193389\"/>\r\n    </g>\r\n   </g>\r\n   <g id=\"line2d_54\">\r\n    <g clip-path=\"url(#p02e6b48254)\">\r\n     <use style=\"fill:#ff0000;stroke:#ff0000;\" x=\"147.487716\" xlink:href=\"#m56779db967\" y=\"114.858985\"/>\r\n    </g>\r\n   </g>\r\n   <g id=\"line2d_55\">\r\n    <g clip-path=\"url(#p02e6b48254)\">\r\n     <use style=\"fill:#ff0000;stroke:#ff0000;\" x=\"96.274103\" xlink:href=\"#m56779db967\" y=\"154.846241\"/>\r\n    </g>\r\n   </g>\r\n   <g id=\"line2d_56\">\r\n    <g clip-path=\"url(#p02e6b48254)\">\r\n     <use style=\"fill:#ff0000;stroke:#ff0000;\" x=\"156.460721\" xlink:href=\"#m56779db967\" y=\"69.33212\"/>\r\n    </g>\r\n   </g>\r\n   <g id=\"line2d_57\">\r\n    <g clip-path=\"url(#p02e6b48254)\">\r\n     <use style=\"fill:#008000;stroke:#008000;\" x=\"48.079538\" xlink:href=\"#mca6d42c61c\" y=\"223.279524\"/>\r\n    </g>\r\n   </g>\r\n   <g id=\"line2d_58\">\r\n    <g clip-path=\"url(#p02e6b48254)\">\r\n     <use style=\"fill:#ff0000;stroke:#ff0000;\" x=\"142.267086\" xlink:href=\"#m56779db967\" y=\"198.743074\"/>\r\n    </g>\r\n   </g>\r\n   <g id=\"line2d_59\">\r\n    <g clip-path=\"url(#p02e6b48254)\">\r\n     <use style=\"fill:#ff0000;stroke:#ff0000;\" x=\"176.54985\" xlink:href=\"#m56779db967\" y=\"169.072963\"/>\r\n    </g>\r\n   </g>\r\n   <g id=\"line2d_60\">\r\n    <g clip-path=\"url(#p02e6b48254)\">\r\n     <use style=\"fill:#ff0000;stroke:#ff0000;\" x=\"197.132796\" xlink:href=\"#m56779db967\" y=\"57.346398\"/>\r\n    </g>\r\n   </g>\r\n   <g id=\"line2d_61\">\r\n    <g clip-path=\"url(#p02e6b48254)\">\r\n     <use style=\"fill:#ff0000;stroke:#ff0000;\" x=\"133.026046\" xlink:href=\"#m56779db967\" y=\"45.194285\"/>\r\n    </g>\r\n   </g>\r\n   <g id=\"line2d_62\">\r\n    <g clip-path=\"url(#p02e6b48254)\">\r\n     <use style=\"fill:#ff0000;stroke:#ff0000;\" x=\"160.241247\" xlink:href=\"#m56779db967\" y=\"53.3449\"/>\r\n    </g>\r\n   </g>\r\n   <g id=\"line2d_63\">\r\n    <g clip-path=\"url(#p02e6b48254)\">\r\n     <use style=\"fill:#ff0000;stroke:#ff0000;\" x=\"246.235888\" xlink:href=\"#m56779db967\" y=\"94.45048\"/>\r\n    </g>\r\n   </g>\r\n   <g id=\"line2d_64\">\r\n    <g clip-path=\"url(#p02e6b48254)\">\r\n     <use style=\"fill:#008000;stroke:#008000;\" x=\"111.010094\" xlink:href=\"#mca6d42c61c\" y=\"15.490501\"/>\r\n    </g>\r\n   </g>\r\n   <g id=\"line2d_65\">\r\n    <g clip-path=\"url(#p02e6b48254)\">\r\n     <use style=\"fill:#ff0000;stroke:#ff0000;\" x=\"189.332312\" xlink:href=\"#m56779db967\" y=\"119.881113\"/>\r\n    </g>\r\n   </g>\r\n   <g id=\"line2d_66\">\r\n    <g clip-path=\"url(#p02e6b48254)\">\r\n     <use style=\"fill:#ff0000;stroke:#ff0000;\" x=\"76.912614\" xlink:href=\"#m56779db967\" y=\"104.686867\"/>\r\n    </g>\r\n   </g>\r\n   <g id=\"line2d_67\">\r\n    <g clip-path=\"url(#p02e6b48254)\">\r\n     <use style=\"fill:#ff0000;stroke:#ff0000;\" x=\"246.496181\" xlink:href=\"#m56779db967\" y=\"95.261791\"/>\r\n    </g>\r\n   </g>\r\n   <g id=\"line2d_68\">\r\n    <g clip-path=\"url(#p02e6b48254)\">\r\n     <use style=\"fill:#008000;stroke:#008000;\" x=\"217.512007\" xlink:href=\"#mca6d42c61c\" y=\"211.554345\"/>\r\n    </g>\r\n   </g>\r\n   <g id=\"line2d_69\">\r\n    <g clip-path=\"url(#p02e6b48254)\">\r\n     <use style=\"fill:#ff0000;stroke:#ff0000;\" x=\"135.91538\" xlink:href=\"#m56779db967\" y=\"88.199222\"/>\r\n    </g>\r\n   </g>\r\n   <g id=\"line2d_70\">\r\n    <g clip-path=\"url(#p02e6b48254)\">\r\n     <use style=\"fill:#ff0000;stroke:#ff0000;\" x=\"88.310536\" xlink:href=\"#m56779db967\" y=\"204.721871\"/>\r\n    </g>\r\n   </g>\r\n   <g id=\"line2d_71\">\r\n    <g clip-path=\"url(#p02e6b48254)\">\r\n     <use style=\"fill:#ff0000;stroke:#ff0000;\" x=\"96.676937\" xlink:href=\"#m56779db967\" y=\"145.46387\"/>\r\n    </g>\r\n   </g>\r\n   <g id=\"line2d_72\">\r\n    <g clip-path=\"url(#p02e6b48254)\">\r\n     <use style=\"fill:#ff0000;stroke:#ff0000;\" x=\"116.827565\" xlink:href=\"#m56779db967\" y=\"110.10842\"/>\r\n    </g>\r\n   </g>\r\n   <g id=\"line2d_73\">\r\n    <g clip-path=\"url(#p02e6b48254)\">\r\n     <use style=\"fill:#ff0000;stroke:#ff0000;\" x=\"98.473489\" xlink:href=\"#m56779db967\" y=\"194.773038\"/>\r\n    </g>\r\n   </g>\r\n   <g id=\"line2d_74\">\r\n    <g clip-path=\"url(#p02e6b48254)\">\r\n     <use style=\"fill:#ff0000;stroke:#ff0000;\" x=\"126.231413\" xlink:href=\"#m56779db967\" y=\"152.306785\"/>\r\n    </g>\r\n   </g>\r\n   <g id=\"line2d_75\">\r\n    <g clip-path=\"url(#p02e6b48254)\">\r\n     <use style=\"fill:#ff0000;stroke:#ff0000;\" x=\"79.36963\" xlink:href=\"#m56779db967\" y=\"44.55949\"/>\r\n    </g>\r\n   </g>\r\n   <g id=\"line2d_76\">\r\n    <g clip-path=\"url(#p02e6b48254)\">\r\n     <use style=\"fill:#ff0000;stroke:#ff0000;\" x=\"169.658783\" xlink:href=\"#m56779db967\" y=\"226.262779\"/>\r\n    </g>\r\n   </g>\r\n   <g id=\"line2d_77\">\r\n    <g clip-path=\"url(#p02e6b48254)\">\r\n     <use style=\"fill:#ff0000;stroke:#ff0000;\" x=\"172.078308\" xlink:href=\"#m56779db967\" y=\"55.814191\"/>\r\n    </g>\r\n   </g>\r\n   <g id=\"line2d_78\">\r\n    <g clip-path=\"url(#p02e6b48254)\">\r\n     <use style=\"fill:#ff0000;stroke:#ff0000;\" x=\"198.084698\" xlink:href=\"#m56779db967\" y=\"174.801281\"/>\r\n    </g>\r\n   </g>\r\n   <g id=\"line2d_79\">\r\n    <g clip-path=\"url(#p02e6b48254)\">\r\n     <use style=\"fill:#ff0000;stroke:#ff0000;\" x=\"198.629415\" xlink:href=\"#m56779db967\" y=\"71.009213\"/>\r\n    </g>\r\n   </g>\r\n   <g id=\"line2d_80\">\r\n    <g clip-path=\"url(#p02e6b48254)\">\r\n     <use style=\"fill:#ff0000;stroke:#ff0000;\" x=\"159.482909\" xlink:href=\"#m56779db967\" y=\"126.343217\"/>\r\n    </g>\r\n   </g>\r\n   <g id=\"line2d_81\">\r\n    <g clip-path=\"url(#p02e6b48254)\">\r\n     <use style=\"fill:#ff0000;stroke:#ff0000;\" x=\"189.127342\" xlink:href=\"#m56779db967\" y=\"177.743986\"/>\r\n    </g>\r\n   </g>\r\n   <g id=\"line2d_82\">\r\n    <g clip-path=\"url(#p02e6b48254)\">\r\n     <use style=\"fill:#008000;stroke:#008000;\" x=\"215.979366\" xlink:href=\"#mca6d42c61c\" y=\"214.117595\"/>\r\n    </g>\r\n   </g>\r\n   <g id=\"line2d_83\">\r\n    <g clip-path=\"url(#p02e6b48254)\">\r\n     <use style=\"fill:#ff0000;stroke:#ff0000;\" x=\"159.309021\" xlink:href=\"#m56779db967\" y=\"152.237204\"/>\r\n    </g>\r\n   </g>\r\n   <g id=\"line2d_84\">\r\n    <g clip-path=\"url(#p02e6b48254)\">\r\n     <use style=\"fill:#008000;stroke:#008000;\" x=\"55.175413\" xlink:href=\"#mca6d42c61c\" y=\"27.941701\"/>\r\n    </g>\r\n   </g>\r\n   <g id=\"line2d_85\">\r\n    <g clip-path=\"url(#p02e6b48254)\">\r\n     <use style=\"fill:#ff0000;stroke:#ff0000;\" x=\"166.805458\" xlink:href=\"#m56779db967\" y=\"63.530324\"/>\r\n    </g>\r\n   </g>\r\n   <g id=\"line2d_86\">\r\n    <g clip-path=\"url(#p02e6b48254)\">\r\n     <use style=\"fill:#ff0000;stroke:#ff0000;\" x=\"126.153901\" xlink:href=\"#m56779db967\" y=\"89.148516\"/>\r\n    </g>\r\n   </g>\r\n   <g id=\"line2d_87\">\r\n    <g clip-path=\"url(#p02e6b48254)\">\r\n     <use style=\"fill:#ff0000;stroke:#ff0000;\" x=\"70.753709\" xlink:href=\"#m56779db967\" y=\"77.538776\"/>\r\n    </g>\r\n   </g>\r\n   <g id=\"line2d_88\">\r\n    <g clip-path=\"url(#p02e6b48254)\">\r\n     <use style=\"fill:#ff0000;stroke:#ff0000;\" x=\"112.730925\" xlink:href=\"#m56779db967\" y=\"159.81183\"/>\r\n    </g>\r\n   </g>\r\n   <g id=\"line2d_89\">\r\n    <g clip-path=\"url(#p02e6b48254)\">\r\n     <use style=\"fill:#ff0000;stroke:#ff0000;\" x=\"77.907511\" xlink:href=\"#m56779db967\" y=\"178.024934\"/>\r\n    </g>\r\n   </g>\r\n   <g id=\"line2d_90\">\r\n    <g clip-path=\"url(#p02e6b48254)\">\r\n     <use style=\"fill:#ff0000;stroke:#ff0000;\" x=\"162.903552\" xlink:href=\"#m56779db967\" y=\"157.78206\"/>\r\n    </g>\r\n   </g>\r\n   <g id=\"line2d_91\">\r\n    <g clip-path=\"url(#p02e6b48254)\">\r\n     <use style=\"fill:#ff0000;stroke:#ff0000;\" x=\"115.47144\" xlink:href=\"#m56779db967\" y=\"200.876527\"/>\r\n    </g>\r\n   </g>\r\n   <g id=\"line2d_92\">\r\n    <g clip-path=\"url(#p02e6b48254)\">\r\n     <use style=\"fill:#ff0000;stroke:#ff0000;\" x=\"208.030203\" xlink:href=\"#m56779db967\" y=\"37.801779\"/>\r\n    </g>\r\n   </g>\r\n   <g id=\"line2d_93\">\r\n    <g clip-path=\"url(#p02e6b48254)\">\r\n     <use style=\"fill:#ff0000;stroke:#ff0000;\" x=\"166.744383\" xlink:href=\"#m56779db967\" y=\"194.133786\"/>\r\n    </g>\r\n   </g>\r\n   <g id=\"line2d_94\">\r\n    <g clip-path=\"url(#p02e6b48254)\">\r\n     <use style=\"fill:#ff0000;stroke:#ff0000;\" x=\"79.144446\" xlink:href=\"#m56779db967\" y=\"74.622162\"/>\r\n    </g>\r\n   </g>\r\n   <g id=\"line2d_95\">\r\n    <g clip-path=\"url(#p02e6b48254)\">\r\n     <use style=\"fill:#ff0000;stroke:#ff0000;\" x=\"85.81921\" xlink:href=\"#m56779db967\" y=\"60.447391\"/>\r\n    </g>\r\n   </g>\r\n   <g id=\"line2d_96\">\r\n    <g clip-path=\"url(#p02e6b48254)\">\r\n     <use style=\"fill:#ff0000;stroke:#ff0000;\" x=\"68.371825\" xlink:href=\"#m56779db967\" y=\"135.927197\"/>\r\n    </g>\r\n   </g>\r\n   <g id=\"line2d_97\">\r\n    <g clip-path=\"url(#p02e6b48254)\">\r\n     <use style=\"fill:#ff0000;stroke:#ff0000;\" x=\"133.697299\" xlink:href=\"#m56779db967\" y=\"131.744209\"/>\r\n    </g>\r\n   </g>\r\n   <g id=\"line2d_98\">\r\n    <g clip-path=\"url(#p02e6b48254)\">\r\n     <use style=\"fill:#ff0000;stroke:#ff0000;\" x=\"105.625788\" xlink:href=\"#m56779db967\" y=\"97.273061\"/>\r\n    </g>\r\n   </g>\r\n   <g id=\"line2d_99\">\r\n    <g clip-path=\"url(#p02e6b48254)\">\r\n     <use style=\"fill:#ff0000;stroke:#ff0000;\" x=\"115.016978\" xlink:href=\"#m56779db967\" y=\"137.36469\"/>\r\n    </g>\r\n   </g>\r\n   <g id=\"line2d_100\">\r\n    <g clip-path=\"url(#p02e6b48254)\">\r\n     <use style=\"fill:#ff0000;stroke:#ff0000;\" x=\"195.093768\" xlink:href=\"#m56779db967\" y=\"213.370193\"/>\r\n    </g>\r\n   </g>\r\n   <g id=\"line2d_101\">\r\n    <g clip-path=\"url(#p02e6b48254)\">\r\n     <use style=\"fill:#ff0000;stroke:#ff0000;\" x=\"134.150982\" xlink:href=\"#m56779db967\" y=\"135.709332\"/>\r\n    </g>\r\n   </g>\r\n   <g id=\"line2d_102\">\r\n    <g clip-path=\"url(#p02e6b48254)\">\r\n     <use style=\"fill:#ff0000;stroke:#ff0000;\" x=\"119.564808\" xlink:href=\"#m56779db967\" y=\"188.478214\"/>\r\n    </g>\r\n   </g>\r\n   <g id=\"line2d_103\">\r\n    <g clip-path=\"url(#p02e6b48254)\">\r\n     <use style=\"fill:#008000;stroke:#008000;\" x=\"250.872388\" xlink:href=\"#mca6d42c61c\" y=\"219.56427\"/>\r\n    </g>\r\n   </g>\r\n   <g id=\"line2d_104\">\r\n    <g clip-path=\"url(#p02e6b48254)\">\r\n     <use style=\"fill:#ff0000;stroke:#ff0000;\" x=\"79.810761\" xlink:href=\"#m56779db967\" y=\"71.89385\"/>\r\n    </g>\r\n   </g>\r\n   <g id=\"line2d_105\">\r\n    <g clip-path=\"url(#p02e6b48254)\">\r\n     <use style=\"fill:#008000;stroke:#008000;\" x=\"234.235385\" xlink:href=\"#mca6d42c61c\" y=\"227.961706\"/>\r\n    </g>\r\n   </g>\r\n   <g id=\"line2d_106\">\r\n    <g clip-path=\"url(#p02e6b48254)\">\r\n     <use style=\"fill:#ff0000;stroke:#ff0000;\" x=\"128.392672\" xlink:href=\"#m56779db967\" y=\"107.610431\"/>\r\n    </g>\r\n   </g>\r\n   <g id=\"line2d_107\">\r\n    <g clip-path=\"url(#p02e6b48254)\">\r\n     <use style=\"fill:#ff0000;stroke:#ff0000;\" x=\"102.297215\" xlink:href=\"#m56779db967\" y=\"119.130296\"/>\r\n    </g>\r\n   </g>\r\n   <g id=\"line2d_108\">\r\n    <g clip-path=\"url(#p02e6b48254)\">\r\n     <use style=\"fill:#ff0000;stroke:#ff0000;\" x=\"194.727903\" xlink:href=\"#m56779db967\" y=\"34.734233\"/>\r\n    </g>\r\n   </g>\r\n   <g id=\"line2d_109\">\r\n    <g clip-path=\"url(#p02e6b48254)\">\r\n     <use style=\"fill:#008000;stroke:#008000;\" x=\"126.309887\" xlink:href=\"#mca6d42c61c\" y=\"227.434547\"/>\r\n    </g>\r\n   </g>\r\n   <g id=\"line2d_110\">\r\n    <g clip-path=\"url(#p02e6b48254)\">\r\n     <use style=\"fill:#ff0000;stroke:#ff0000;\" x=\"160.949685\" xlink:href=\"#m56779db967\" y=\"68.578438\"/>\r\n    </g>\r\n   </g>\r\n   <g id=\"line2d_111\">\r\n    <g clip-path=\"url(#p02e6b48254)\">\r\n     <use style=\"fill:#ff0000;stroke:#ff0000;\" x=\"78.440385\" xlink:href=\"#m56779db967\" y=\"157.322762\"/>\r\n    </g>\r\n   </g>\r\n   <g id=\"line2d_112\">\r\n    <g clip-path=\"url(#p02e6b48254)\">\r\n     <use style=\"fill:#ff0000;stroke:#ff0000;\" x=\"242.674465\" xlink:href=\"#m56779db967\" y=\"157.307733\"/>\r\n    </g>\r\n   </g>\r\n   <g id=\"line2d_113\">\r\n    <g clip-path=\"url(#p02e6b48254)\">\r\n     <use style=\"fill:#ff0000;stroke:#ff0000;\" x=\"143.46936\" xlink:href=\"#m56779db967\" y=\"64.575475\"/>\r\n    </g>\r\n   </g>\r\n   <g id=\"line2d_114\">\r\n    <g clip-path=\"url(#p02e6b48254)\">\r\n     <use style=\"fill:#ff0000;stroke:#ff0000;\" x=\"72.83022\" xlink:href=\"#m56779db967\" y=\"111.000033\"/>\r\n    </g>\r\n   </g>\r\n   <g id=\"patch_3\">\r\n    <path d=\"M 44.845313 228.439219 \r\nL 44.845313 10.999219 \r\n\" style=\"fill:none;stroke:#000000;stroke-linecap:square;stroke-linejoin:miter;stroke-width:0.8;\"/>\r\n   </g>\r\n   <g id=\"patch_4\">\r\n    <path d=\"M 262.285313 228.439219 \r\nL 262.285313 10.999219 \r\n\" style=\"fill:none;stroke:#000000;stroke-linecap:square;stroke-linejoin:miter;stroke-width:0.8;\"/>\r\n   </g>\r\n   <g id=\"patch_5\">\r\n    <path d=\"M 44.845312 228.439219 \r\nL 262.285313 228.439219 \r\n\" style=\"fill:none;stroke:#000000;stroke-linecap:square;stroke-linejoin:miter;stroke-width:0.8;\"/>\r\n   </g>\r\n   <g id=\"patch_6\">\r\n    <path d=\"M 44.845312 10.999219 \r\nL 262.285313 10.999219 \r\n\" style=\"fill:none;stroke:#000000;stroke-linecap:square;stroke-linejoin:miter;stroke-width:0.8;\"/>\r\n   </g>\r\n  </g>\r\n </g>\r\n <defs>\r\n  <clipPath id=\"p02e6b48254\">\r\n   <rect height=\"217.44\" width=\"217.44\" x=\"44.845313\" y=\"10.999219\"/>\r\n  </clipPath>\r\n </defs>\r\n</svg>\r\n",
      "image/png": "[encoded data removed]"
     },
     "metadata": {
      "needs_background": "light"
     }
    }
   ],
   "source": [
    "#(g)\n",
    "import random\n",
    "import math\n",
    "import matplotlib.pyplot as plt\n",
    "import numpy as np \n",
    "\n",
    "#Skriver ut en cirkel, behövs egentligen inte för uppgiften men det ger en bra visualisering. (taget från stackoverflow)\n",
    "x = np.linspace(-1.0, 1.0, 100)\n",
    "y = np.linspace(-1.0, 1.0, 100)\n",
    "\n",
    "X, Y = np.meshgrid(x,y)\n",
    "\n",
    "F = X**2 + Y**2 - 1.0\n",
    "\n",
    "fig, ax = plt.subplots()\n",
    "\n",
    "ax.contour(X,Y,F,[0])\n",
    "\n",
    "ax.set_aspect(1)\n",
    "\n",
    "\n",
    "#Samma kod som jag använde innan i uppgift (e) och (f), men istället för att spara i variablar så sparas det i plt.plot. Punkter som hamnar i cirkeln är röda och punkter som hamnar utanför är gröna. Valt att använda 100 simulerade punkter här men man kan såklart ändra värdet.\n",
    "for i in range (100):\n",
    "    y = random.uniform(-1,1)\n",
    "    x = random.uniform(-1,1)\n",
    "\n",
    "    if x**2 + y**2 <= 1**2:\n",
    "        plt.plot(x, y, \".\", color=\"red\")\n",
    "\n",
    "    elif x**2 + y**2 >= 1**2:\n",
    "        plt.plot(x, y, \".\", color=\"green\")\n",
    "\n",
    "#Visar med matplotlib\n",
    "plt.show()\n",
    "\n",
    "#"
   ]
  },
  {
   "cell_type": "code",
   "execution_count": 81,
   "metadata": {},
   "outputs": [
    {
     "output_type": "stream",
     "name": "stdout",
     "text": [
      "3.14028\n"
     ]
    }
   ],
   "source": [
    "#(h)\n",
    "import random\n",
    "import math\n",
    "\n",
    "i_cirkeln = 0\n",
    "utanför_cirkeln = 0\n",
    "simulerade_punkter = 100000\n",
    "\n",
    "for i in range (simulerade_punkter):\n",
    "    y = random.uniform(-0.865,0.865)\n",
    "    x = random.uniform(-0.865,0.865)\n",
    "\n",
    "    if x**2 + y**2 <= 0.865**2:\n",
    "        i_cirkeln += 1\n",
    "        \n",
    "    elif x**2 + y**2 >= 0.865**2:\n",
    "        utanför_cirkeln += 1\n",
    "\n",
    "print((i_cirkeln / simulerade_punkter) * 4)\n",
    "\n",
    "#Om diametern på cirkeln är lika lång som sidan på rektangeln så blir närmevärdet en fjärdedel av pi. \n"
   ]
  },
  {
   "source": [
    "Uppgift 2\n"
   ],
   "cell_type": "markdown",
   "metadata": {}
  },
  {
   "cell_type": "code",
   "execution_count": 34,
   "metadata": {},
   "outputs": [
    {
     "output_type": "stream",
     "name": "stdout",
     "text": [
      "1\n2\n3\n4\n5\n6\n7\n8\n9\n10\n11\n12\n13\n14\n15\n16\n17\n18\n19\n20\n21\n22\n23\n24\n25\n26\n27\n28\n29\n30\n31\n32\n33\n34\n35\n36\n37\n38\n39\n40\n41\n42\n43\n44\n45\n46\n47\n48\n49\n50\n51\n52\n53\n54\n55\n56\n57\n58\n59\n60\n61\n62\n63\n64\n65\n66\n67\n68\n69\n70\n71\n72\n73\n74\n75\n76\n77\n78\n79\n80\n81\n82\n83\n84\n85\n86\n87\n88\n89\n90\n91\n92\n93\n94\n95\n96\n97\n98\n99\n100\n"
     ]
    }
   ],
   "source": [
    "#(a)\n",
    "#Använder en for loop för att printa 1-100\n",
    "for tal in range(1,101):\n",
    "    print(tal)\n",
    "    tal += 1"
   ]
  },
  {
   "cell_type": "code",
   "execution_count": 36,
   "metadata": {},
   "outputs": [
    {
     "output_type": "stream",
     "name": "stdout",
     "text": [
      "1\n2\n3\n4\nBurr\n6\n7\n8\n9\nBurr\n11\n12\n13\n14\nBurr\n16\n17\n18\n19\nBurr\n21\n22\n23\n24\nBurr\n26\n27\n28\n29\nBurr\n31\n32\n33\n34\nBurr\n36\n37\n38\n39\nBurr\n41\n42\n43\n44\nBurr\n46\n47\n48\n49\nBurr\n51\n52\n53\n54\nBurr\n56\n57\n58\n59\nBurr\n61\n62\n63\n64\nBurr\n66\n67\n68\n69\nBurr\n71\n72\n73\n74\nBurr\n76\n77\n78\n79\nBurr\n81\n82\n83\n84\nBurr\n86\n87\n88\n89\nBurr\n91\n92\n93\n94\nBurr\n96\n97\n98\n99\nBurr\n"
     ]
    }
   ],
   "source": [
    "#(b)\n",
    "#Använder en for loop för att printa 1-100\n",
    "for tal in range(1,101):\n",
    "\n",
    "    #Om talet delas på 5 och har en kvarstående summa av 0 så printas \"Burr\" istället för talet.\n",
    "    if tal % 5 == 0:\n",
    "        print(\"Burr\")\n",
    "\n",
    "    else:\n",
    "        print(tal)\n",
    "    \n",
    "    tal += 1"
   ]
  },
  {
   "cell_type": "code",
   "execution_count": 37,
   "metadata": {},
   "outputs": [
    {
     "output_type": "stream",
     "name": "stdout",
     "text": [
      "1\n2\nBurr\n4\n5\nBurr\n7\n8\nBurr\n10\n11\nBurr\n13\n14\nBurr\n16\n17\nBurr\n19\n20\nBurr\n22\n23\nBurr\n25\n26\nBurr\n28\n29\nBurr\n31\n32\nBurr\n34\n35\nBurr\n37\n38\nBurr\n40\n41\nBurr\n43\n44\nBurr\n46\n47\nBurr\n49\n50\nBurr\n52\n53\nBurr\n55\n56\nBurr\n58\n59\nBurr\n61\n62\nBurr\n64\n65\nBurr\n67\n68\nBurr\n70\n71\nBurr\n73\n74\nBurr\n76\n77\nBurr\n79\n80\nBurr\n82\n83\nBurr\n85\n86\nBurr\n88\n89\nBurr\n91\n92\nBurr\n94\n95\nBurr\n97\n98\nBurr\n100\n"
     ]
    }
   ],
   "source": [
    "#(c)\n",
    "#Användarens input för ett \n",
    "burr = int(input(\"Ange ett tal vars multiplar blir \\\"Burr\\\": \"))\n",
    "\n",
    "for tal in range(1,101):\n",
    "\n",
    "    #Samma kod som förut men istället för 5 så används variabeln som är användarens input\n",
    "    if tal % burr == 0:\n",
    "        print(\"Burr\")\n",
    "\n",
    "    else:\n",
    "        print(tal)\n",
    "    \n",
    "    tal += 1"
   ]
  },
  {
   "cell_type": "code",
   "execution_count": 39,
   "metadata": {},
   "outputs": [
    {
     "output_type": "stream",
     "name": "stdout",
     "text": [
      "1\n2\nBurr\n4\nBirr\nBurr\n7\n8\nBurr\nBirr\n11\nBurr\n13\n14\nBurr\n16\n17\nBurr\n19\nBirr\nBurr\n22\n23\nBurr\nBirr\n26\nBurr\n28\n29\nBurr\n31\n32\nBurr\n34\nBirr\nBurr\n37\n38\nBurr\nBirr\n41\nBurr\n43\n44\nBurr\n46\n47\nBurr\n49\nBirr\nBurr\n52\n53\nBurr\nBirr\n56\nBurr\n58\n59\nBurr\n61\n62\nBurr\n64\nBirr\nBurr\n67\n68\nBurr\nBirr\n71\nBurr\n73\n74\nBurr\n76\n77\nBurr\n79\nBirr\nBurr\n82\n83\nBurr\nBirr\n86\nBurr\n88\n89\nBurr\n91\n92\nBurr\n94\nBirr\nBurr\n97\n98\nBurr\nBirr\n"
     ]
    }
   ],
   "source": [
    "#(d)\n",
    "#Användaren väljer burr och birr som sparas i varsin variabel som en integer.\n",
    "burr = int(input(\"Ange ett tal vars multiplar blir \\\"Burr\\\": \"))\n",
    "birr = int(input(\"Ange ett tal vars multiplar blir \\\"Birr\\\": \"))\n",
    "\n",
    "\n",
    "for tal in range(1,101):\n",
    "\n",
    "    if tal % burr == 0:\n",
    "        print(\"Burr\")\n",
    "\n",
    "    elif tal % birr == 0:\n",
    "        print(\"Birr\")\n",
    "\n",
    "    else:\n",
    "        print(tal)\n",
    "    \n",
    "    tal += 1"
   ]
  },
  {
   "cell_type": "code",
   "execution_count": 40,
   "metadata": {},
   "outputs": [
    {
     "output_type": "stream",
     "name": "stdout",
     "text": [
      "Burr är 3\nBirr är 5\n\n\n1\n2\n3 - Burr\n4\n5 - Birr\n6 - Burr\n7\n8\n9 - Burr\n10 - Birr\n11\n12 - Burr\n13\n14\n15 - Burr Birr\n16\n17\n18 - Burr\n19\n20 - Birr\n21 - Burr\n22\n23\n24 - Burr\n25 - Birr\n26\n27 - Burr\n28\n29\n30 - Burr Birr\n31\n32\n33 - Burr\n34\n35 - Birr\n36 - Burr\n37\n38\n39 - Burr\n40 - Birr\n41\n42 - Burr\n43\n44\n45 - Burr Birr\n46\n47\n48 - Burr\n49\n50 - Birr\n51 - Burr\n52\n53\n54 - Burr\n55 - Birr\n56\n57 - Burr\n58\n59\n60 - Burr Birr\n61\n62\n63 - Burr\n64\n65 - Birr\n66 - Burr\n67\n68\n69 - Burr\n70 - Birr\n71\n72 - Burr\n73\n74\n75 - Burr Birr\n76\n77\n78 - Burr\n79\n80 - Birr\n81 - Burr\n82\n83\n84 - Burr\n85 - Birr\n86\n87 - Burr\n88\n89\n90 - Burr Birr\n91\n92\n93 - Burr\n94\n95 - Birr\n96 - Burr\n97\n98\n99 - Burr\n100 - Birr\n\n\nAntal Burr: 33\nAntal Birr: 20\nAntal Burr Birr: 6\n"
     ]
    }
   ],
   "source": [
    "#(e)\n",
    "start = int(input(\"Ange start: \"))\n",
    "slut = int(input(\"Ange slut: \"))\n",
    "\n",
    "burr = int(input(\"Burr | Ange heltalsmultipel för Burr: \"))\n",
    "birr = int(input(\"Birr | Ange heltalsmultipel för Birr: \"))\n",
    "\n",
    "antal_burr = 0\n",
    "antal_birr = 0\n",
    "antal_burrbirr = 0\n",
    "\n",
    "print(f\"Burr är {burr}\")\n",
    "print(f\"Birr är {birr}\")\n",
    "print(\"\\n\")\n",
    "\n",
    "for tal in range(start,slut+1):\n",
    "\n",
    "    if tal % birr == 0 and tal % burr == 0:\n",
    "        print(tal, \"- Burr Birr\")\n",
    "        antal_burrbirr += 1\n",
    "        antal_burr += 1\n",
    "        antal_birr += 1\n",
    "\n",
    "\n",
    "    elif tal % burr == 0:\n",
    "        print(tal, \"- Burr\")\n",
    "        antal_burr += 1\n",
    "\n",
    "    elif tal % birr == 0:\n",
    "        print(tal, \"- Birr\")\n",
    "        antal_birr += 1\n",
    "\n",
    "    else:\n",
    "        print(tal)\n",
    "    \n",
    "    tal += 1\n",
    "\n",
    "print(\"\\n\")\n",
    "print(f\"Antal Burr: {antal_burr}\")\n",
    "print(f\"Antal Birr: {antal_birr}\")\n",
    "print(f\"Antal Burr Birr: {antal_burrbirr}\")"
   ]
  },
  {
   "cell_type": "code",
   "execution_count": 44,
   "metadata": {},
   "outputs": [
    {
     "output_type": "stream",
     "name": "stdout",
     "text": [
      "Ange heltal i sifferform\n"
     ]
    }
   ],
   "source": [
    "#(f)\n",
    "#Man kan göra programmet bättre genom att lägga till felhantering (vilket jag älskar att göra)\n",
    "\"\"\"\n",
    "Har också tänkt att man kan använda programmet för att lära sig multiplikationstabellen med decimaler, dvs float istället för integer. Har inte ändrat koden för det men det bör vara möjligt genom att bara ändra från int till float.\n",
    "\"\"\"\n",
    "#Gör en ständig loop som används för att kunna \"stänga av\" programmet när man får ett felmeddelande (dvs )\n",
    "while True:\n",
    "\n",
    "    #Använder try för att kunna använda except. \n",
    "    try:\n",
    "        start = int(input(\"Ange start: \"))\n",
    "        slut = int(input(\"Ange slut: \"))\n",
    "\n",
    "        #Kollar om start är före slut eller ej, är start efter slut printar ett felmeddelande och loopen breakar \n",
    "        # (dvs programmet stängs av och man måste runna det igen)\n",
    "        if slut < start:\n",
    "            print(\"Start kan inte vara efter slut\")\n",
    "            break\n",
    "\n",
    "        burr = int(input(\"Burr | Ange heltalsmultipel för Burr: \"))\n",
    "        birr = int(input(\"Birr | Ange heltalsmultipel för Birr: \"))\n",
    "\n",
    "        #Ser till så att burr eller birr inte är lika med 0, då det skapar ett ZeroDivisionError i programmet \n",
    "        #eftersom man ej kan dela med 0. \n",
    "        if burr == 0 or birr == 0:\n",
    "            print(\"Burr eller Birr kan inte vara 0\")\n",
    "            break\n",
    "\n",
    "    #Om användaren anger något annat än ett heltal i sifferform (dvs en integer) skrivs ett felmeddelande ut och \n",
    "    #programmet stoppas.\n",
    "    except ValueError:\n",
    "        print(\"Ange heltal i sifferform\")\n",
    "        break\n",
    "        \n",
    "\n",
    "    antal_burr = 0\n",
    "    antal_birr = 0\n",
    "    antal_burrbirr = 0\n",
    "\n",
    "    print(f\"Burr är {burr}\")\n",
    "    print(f\"Birr är {birr}\")\n",
    "    print(\"\\n\")\n",
    "\n",
    "    for i in range(start,slut+1):\n",
    "\n",
    "        if i % birr == 0 and i % burr == 0:\n",
    "            print(i, \"- Burr Birr\")\n",
    "            antal_burrbirr += 1\n",
    "            antal_burr += 1\n",
    "            antal_birr += 1\n",
    "\n",
    "\n",
    "        elif i % burr == 0:\n",
    "            print(i, \"- Burr\")\n",
    "            antal_burr += 1\n",
    "\n",
    "        elif i % birr == 0:\n",
    "            print(i, \"- Birr\")\n",
    "            antal_birr += 1\n",
    "\n",
    "        else:\n",
    "            print(i)\n",
    "        \n",
    "        i += 1\n",
    "\n",
    "    print(\"\\n\")\n",
    "    print(f\"Antal Burr: {antal_burr}\")\n",
    "    print(f\"Antal Birr: {antal_birr}\")\n",
    "    print(f\"Antal Burr Birr: {antal_burrbirr}\")\n",
    "    \n",
    "    #Breakar loopen vid slutet av programmet så att programmet inte körs om och om igen.\n",
    "    break"
   ]
  },
  {
   "cell_type": "code",
   "execution_count": null,
   "metadata": {},
   "outputs": [],
   "source": []
  }
 ]
}