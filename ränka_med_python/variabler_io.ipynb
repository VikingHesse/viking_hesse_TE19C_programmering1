{
 "metadata": {
  "language_info": {
   "codemirror_mode": {
    "name": "ipython",
    "version": 3
   },
   "file_extension": ".py",
   "mimetype": "text/x-python",
   "name": "python",
   "nbconvert_exporter": "python",
   "pygments_lexer": "ipython3",
   "version": "3.8.3-final"
  },
  "orig_nbformat": 2,
  "kernelspec": {
   "name": "python_defaultSpec_1599465126718",
   "display_name": "Python 3.8.3 64-bit ('base': conda)"
  }
 },
 "nbformat": 4,
 "nbformat_minor": 2,
 "cells": [
  {
   "cell_type": "markdown",
   "metadata": {},
   "source": [
    "# Notebook\n",
    "\n",
    "## Detta är en Jupyter Notebook\n",
    "\n",
    "$F = mg$"
   ]
  },
  {
   "cell_type": "markdown",
   "metadata": {},
   "source": []
  },
  {
   "cell_type": "code",
   "execution_count": 6,
   "metadata": {
    "tags": []
   },
   "outputs": [
    {
     "output_type": "stream",
     "name": "stdout",
     "text": "Din tyngkraft är 392.8N\n"
    }
   ],
   "source": [
    "#Skapar en variabel g och tilldelar det värdet 9.82\n",
    "g = 9.82\n",
    "\n",
    "#Insätter vikten i variabeln m\n",
    "m = float(input(\"Hur mycket väger du? \"))\n",
    "\n",
    "#Beräknar tyngkraften\n",
    "F = m*g\n",
    "\n",
    "#Skriver ut resultatet\n",
    "print(f\"Din tyngkraft är {F}N\")"
   ]
  },
  {
   "cell_type": "code",
   "execution_count": 1,
   "metadata": {
    "tags": []
   },
   "outputs": [
    {
     "output_type": "stream",
     "name": "stdout",
     "text": "31.23%\n"
    }
   ],
   "source": [
    "#ange decimalen\n",
    "decimal = float(input(\"Ange decimal: \"))\n",
    "\n",
    "#omvandlar till procent\n",
    "procent = round(decimal * 100,2)\n",
    "\n",
    "#skriver ut resultatet\n",
    "print(f\"{procent}%\")"
   ]
  },
  {
   "cell_type": "code",
   "execution_count": 6,
   "metadata": {
    "tags": []
   },
   "outputs": [
    {
     "output_type": "stream",
     "name": "stdout",
     "text": "300.0 kelvin är 26.85 celsius\n"
    }
   ],
   "source": [
    "#ange temperatur i kelvin\n",
    "kelvin = float(input(\"Ange temperatur i Kelvin: \"))\n",
    "\n",
    "celsius = round(kelvin - 273.15, 3)\n",
    "\n",
    "print(f\"{kelvin} kelvin är {celsius} celsius\")\n"
   ]
  },
  {
   "cell_type": "code",
   "execution_count": 10,
   "metadata": {
    "tags": []
   },
   "outputs": [
    {
     "output_type": "stream",
     "name": "stdout",
     "text": "0.0 celsius är 273.15 kelvin\n"
    }
   ],
   "source": [
    "#ange temperatur i celsius\n",
    "celsius = float(input(\"Ange temperatur i celsius: \"))\n",
    "\n",
    "kelvin = round(celsius + 273.15, 3)\n",
    "\n",
    "print(f\"{celsius} celsius är {kelvin} kelvin\")"
   ]
  },
  {
   "cell_type": "code",
   "execution_count": 9,
   "metadata": {
    "tags": []
   },
   "outputs": [
    {
     "output_type": "stream",
     "name": "stdout",
     "text": "Med engångsbiljetter kostar det 600kr per månad\nDet är inte värt att köpa ett månadskort, det kostar 775kr och du spenderar 600kr på engångsbiljetter per månad\n"
    }
   ],
   "source": [
    "engångsbiljett = 30\n",
    "månadskort = 775\n",
    "\n",
    "resor = int(input(\"Hur många gånger reser du per månad? \"))\n",
    "\n",
    "kostnad = resor * engångsbiljett\n",
    "\n",
    "print(f\"Med engångsbiljetter kostar det {kostnad}kr per månad\")\n",
    "\n",
    "if kostnad > månadskort:\n",
    "    print(f\"Det är värt att köpa ett månadskort, det kostar {månadskort}kr och du spenderar {kostnad}på engångsbiljetter per månad\")\n",
    "elif kostnad < månadskort:\n",
    "    print(f\"Det är inte värt att köpa ett månadskort, det kostar {månadskort}kr och du spenderar {kostnad}kr på engångsbiljetter per månad\")"
   ]
  },
  {
   "cell_type": "code",
   "execution_count": 13,
   "metadata": {
    "tags": []
   },
   "outputs": [
    {
     "output_type": "stream",
     "name": "stdout",
     "text": "Den andra katetern är 10.909\n"
    }
   ],
   "source": [
    "import math\n",
    "h = float(input(\"Hypotenusa: \"))\n",
    "k1 = float(input(\"första katetern: \"))\n",
    "k1h = (h**2-k1**2)\n",
    "k2 = round(math.sqrt(k1h), 3)\n",
    "\n",
    "print(f\"Den andra katetern är {k2}\")\n"
   ]
  },
  {
   "cell_type": "code",
   "execution_count": null,
   "metadata": {},
   "outputs": [],
   "source": []
  }
 ]
}